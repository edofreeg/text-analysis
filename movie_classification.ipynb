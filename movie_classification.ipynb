{
  "nbformat": 4,
  "nbformat_minor": 0,
  "metadata": {
    "colab": {
      "provenance": [],
      "include_colab_link": true
    },
    "kernelspec": {
      "name": "python3",
      "display_name": "Python 3"
    },
    "language_info": {
      "name": "python"
    },
    "accelerator": "GPU",
    "widgets": {
      "application/vnd.jupyter.widget-state+json": {
        "2f1d12ebd59846918700a471c0a4e3b0": {
          "model_module": "@jupyter-widgets/controls",
          "model_name": "HBoxModel",
          "model_module_version": "1.5.0",
          "state": {
            "_view_name": "HBoxView",
            "_dom_classes": [],
            "_model_name": "HBoxModel",
            "_view_module": "@jupyter-widgets/controls",
            "_model_module_version": "1.5.0",
            "_view_count": null,
            "_view_module_version": "1.5.0",
            "box_style": "",
            "layout": "IPY_MODEL_6c330bb607db4c4a9cf4fbed58afee66",
            "_model_module": "@jupyter-widgets/controls",
            "children": [
              "IPY_MODEL_50af1f53c2eb4045b9168cff7f7de79f",
              "IPY_MODEL_660731255b584d51871e4cd13f051610",
              "IPY_MODEL_c0da3838a8fd411e99d34d5da9670d06"
            ]
          }
        },
        "6c330bb607db4c4a9cf4fbed58afee66": {
          "model_module": "@jupyter-widgets/base",
          "model_name": "LayoutModel",
          "model_module_version": "1.2.0",
          "state": {
            "_view_name": "LayoutView",
            "grid_template_rows": null,
            "right": null,
            "justify_content": null,
            "_view_module": "@jupyter-widgets/base",
            "overflow": null,
            "_model_module_version": "1.2.0",
            "_view_count": null,
            "flex_flow": null,
            "width": null,
            "min_width": null,
            "border": null,
            "align_items": null,
            "bottom": null,
            "_model_module": "@jupyter-widgets/base",
            "top": null,
            "grid_column": null,
            "overflow_y": null,
            "overflow_x": null,
            "grid_auto_flow": null,
            "grid_area": null,
            "grid_template_columns": null,
            "flex": null,
            "_model_name": "LayoutModel",
            "justify_items": null,
            "grid_row": null,
            "max_height": null,
            "align_content": null,
            "visibility": null,
            "align_self": null,
            "height": null,
            "min_height": null,
            "padding": null,
            "grid_auto_rows": null,
            "grid_gap": null,
            "max_width": null,
            "order": null,
            "_view_module_version": "1.2.0",
            "grid_template_areas": null,
            "object_position": null,
            "object_fit": null,
            "grid_auto_columns": null,
            "margin": null,
            "display": null,
            "left": null
          }
        },
        "50af1f53c2eb4045b9168cff7f7de79f": {
          "model_module": "@jupyter-widgets/controls",
          "model_name": "HTMLModel",
          "model_module_version": "1.5.0",
          "state": {
            "_view_name": "HTMLView",
            "style": "IPY_MODEL_7efb9138973e430488c1c2ed5668dd48",
            "_dom_classes": [],
            "description": "",
            "_model_name": "HTMLModel",
            "placeholder": "​",
            "_view_module": "@jupyter-widgets/controls",
            "_model_module_version": "1.5.0",
            "value": "Downloading: 100%",
            "_view_count": null,
            "_view_module_version": "1.5.0",
            "description_tooltip": null,
            "_model_module": "@jupyter-widgets/controls",
            "layout": "IPY_MODEL_c19c020c88d14d68ad1d6ddfecf6c305"
          }
        },
        "660731255b584d51871e4cd13f051610": {
          "model_module": "@jupyter-widgets/controls",
          "model_name": "FloatProgressModel",
          "model_module_version": "1.5.0",
          "state": {
            "_view_name": "ProgressView",
            "style": "IPY_MODEL_ce639650812c40df93658440258063b9",
            "_dom_classes": [],
            "description": "",
            "_model_name": "FloatProgressModel",
            "bar_style": "success",
            "max": 213450,
            "_view_module": "@jupyter-widgets/controls",
            "_model_module_version": "1.5.0",
            "value": 213450,
            "_view_count": null,
            "_view_module_version": "1.5.0",
            "orientation": "horizontal",
            "min": 0,
            "description_tooltip": null,
            "_model_module": "@jupyter-widgets/controls",
            "layout": "IPY_MODEL_08a558b0f66646a1bd1720b90b9f73fe"
          }
        },
        "c0da3838a8fd411e99d34d5da9670d06": {
          "model_module": "@jupyter-widgets/controls",
          "model_name": "HTMLModel",
          "model_module_version": "1.5.0",
          "state": {
            "_view_name": "HTMLView",
            "style": "IPY_MODEL_4c1df9256d7c4ec59f817ece7d80c8b4",
            "_dom_classes": [],
            "description": "",
            "_model_name": "HTMLModel",
            "placeholder": "​",
            "_view_module": "@jupyter-widgets/controls",
            "_model_module_version": "1.5.0",
            "value": " 208k/208k [00:00&lt;00:00, 341kB/s]",
            "_view_count": null,
            "_view_module_version": "1.5.0",
            "description_tooltip": null,
            "_model_module": "@jupyter-widgets/controls",
            "layout": "IPY_MODEL_8b40543d7a2c45daa248db306b459aba"
          }
        },
        "7efb9138973e430488c1c2ed5668dd48": {
          "model_module": "@jupyter-widgets/controls",
          "model_name": "DescriptionStyleModel",
          "model_module_version": "1.5.0",
          "state": {
            "_view_name": "StyleView",
            "_model_name": "DescriptionStyleModel",
            "description_width": "",
            "_view_module": "@jupyter-widgets/base",
            "_model_module_version": "1.5.0",
            "_view_count": null,
            "_view_module_version": "1.2.0",
            "_model_module": "@jupyter-widgets/controls"
          }
        },
        "c19c020c88d14d68ad1d6ddfecf6c305": {
          "model_module": "@jupyter-widgets/base",
          "model_name": "LayoutModel",
          "model_module_version": "1.2.0",
          "state": {
            "_view_name": "LayoutView",
            "grid_template_rows": null,
            "right": null,
            "justify_content": null,
            "_view_module": "@jupyter-widgets/base",
            "overflow": null,
            "_model_module_version": "1.2.0",
            "_view_count": null,
            "flex_flow": null,
            "width": null,
            "min_width": null,
            "border": null,
            "align_items": null,
            "bottom": null,
            "_model_module": "@jupyter-widgets/base",
            "top": null,
            "grid_column": null,
            "overflow_y": null,
            "overflow_x": null,
            "grid_auto_flow": null,
            "grid_area": null,
            "grid_template_columns": null,
            "flex": null,
            "_model_name": "LayoutModel",
            "justify_items": null,
            "grid_row": null,
            "max_height": null,
            "align_content": null,
            "visibility": null,
            "align_self": null,
            "height": null,
            "min_height": null,
            "padding": null,
            "grid_auto_rows": null,
            "grid_gap": null,
            "max_width": null,
            "order": null,
            "_view_module_version": "1.2.0",
            "grid_template_areas": null,
            "object_position": null,
            "object_fit": null,
            "grid_auto_columns": null,
            "margin": null,
            "display": null,
            "left": null
          }
        },
        "ce639650812c40df93658440258063b9": {
          "model_module": "@jupyter-widgets/controls",
          "model_name": "ProgressStyleModel",
          "model_module_version": "1.5.0",
          "state": {
            "_view_name": "StyleView",
            "_model_name": "ProgressStyleModel",
            "description_width": "",
            "_view_module": "@jupyter-widgets/base",
            "_model_module_version": "1.5.0",
            "_view_count": null,
            "_view_module_version": "1.2.0",
            "bar_color": null,
            "_model_module": "@jupyter-widgets/controls"
          }
        },
        "08a558b0f66646a1bd1720b90b9f73fe": {
          "model_module": "@jupyter-widgets/base",
          "model_name": "LayoutModel",
          "model_module_version": "1.2.0",
          "state": {
            "_view_name": "LayoutView",
            "grid_template_rows": null,
            "right": null,
            "justify_content": null,
            "_view_module": "@jupyter-widgets/base",
            "overflow": null,
            "_model_module_version": "1.2.0",
            "_view_count": null,
            "flex_flow": null,
            "width": null,
            "min_width": null,
            "border": null,
            "align_items": null,
            "bottom": null,
            "_model_module": "@jupyter-widgets/base",
            "top": null,
            "grid_column": null,
            "overflow_y": null,
            "overflow_x": null,
            "grid_auto_flow": null,
            "grid_area": null,
            "grid_template_columns": null,
            "flex": null,
            "_model_name": "LayoutModel",
            "justify_items": null,
            "grid_row": null,
            "max_height": null,
            "align_content": null,
            "visibility": null,
            "align_self": null,
            "height": null,
            "min_height": null,
            "padding": null,
            "grid_auto_rows": null,
            "grid_gap": null,
            "max_width": null,
            "order": null,
            "_view_module_version": "1.2.0",
            "grid_template_areas": null,
            "object_position": null,
            "object_fit": null,
            "grid_auto_columns": null,
            "margin": null,
            "display": null,
            "left": null
          }
        },
        "4c1df9256d7c4ec59f817ece7d80c8b4": {
          "model_module": "@jupyter-widgets/controls",
          "model_name": "DescriptionStyleModel",
          "model_module_version": "1.5.0",
          "state": {
            "_view_name": "StyleView",
            "_model_name": "DescriptionStyleModel",
            "description_width": "",
            "_view_module": "@jupyter-widgets/base",
            "_model_module_version": "1.5.0",
            "_view_count": null,
            "_view_module_version": "1.2.0",
            "_model_module": "@jupyter-widgets/controls"
          }
        },
        "8b40543d7a2c45daa248db306b459aba": {
          "model_module": "@jupyter-widgets/base",
          "model_name": "LayoutModel",
          "model_module_version": "1.2.0",
          "state": {
            "_view_name": "LayoutView",
            "grid_template_rows": null,
            "right": null,
            "justify_content": null,
            "_view_module": "@jupyter-widgets/base",
            "overflow": null,
            "_model_module_version": "1.2.0",
            "_view_count": null,
            "flex_flow": null,
            "width": null,
            "min_width": null,
            "border": null,
            "align_items": null,
            "bottom": null,
            "_model_module": "@jupyter-widgets/base",
            "top": null,
            "grid_column": null,
            "overflow_y": null,
            "overflow_x": null,
            "grid_auto_flow": null,
            "grid_area": null,
            "grid_template_columns": null,
            "flex": null,
            "_model_name": "LayoutModel",
            "justify_items": null,
            "grid_row": null,
            "max_height": null,
            "align_content": null,
            "visibility": null,
            "align_self": null,
            "height": null,
            "min_height": null,
            "padding": null,
            "grid_auto_rows": null,
            "grid_gap": null,
            "max_width": null,
            "order": null,
            "_view_module_version": "1.2.0",
            "grid_template_areas": null,
            "object_position": null,
            "object_fit": null,
            "grid_auto_columns": null,
            "margin": null,
            "display": null,
            "left": null
          }
        },
        "bbbec193bb854651b186267690b2ee20": {
          "model_module": "@jupyter-widgets/controls",
          "model_name": "HBoxModel",
          "model_module_version": "1.5.0",
          "state": {
            "_view_name": "HBoxView",
            "_dom_classes": [],
            "_model_name": "HBoxModel",
            "_view_module": "@jupyter-widgets/controls",
            "_model_module_version": "1.5.0",
            "_view_count": null,
            "_view_module_version": "1.5.0",
            "box_style": "",
            "layout": "IPY_MODEL_e3695652c8714d40a165e26efab8ae5e",
            "_model_module": "@jupyter-widgets/controls",
            "children": [
              "IPY_MODEL_56a73b368b0c480cb46f343c0304b199",
              "IPY_MODEL_c41da7ffc39d4d2d896fa994c331fd1b",
              "IPY_MODEL_626f68193016463d969a4be2778df0b0"
            ]
          }
        },
        "e3695652c8714d40a165e26efab8ae5e": {
          "model_module": "@jupyter-widgets/base",
          "model_name": "LayoutModel",
          "model_module_version": "1.2.0",
          "state": {
            "_view_name": "LayoutView",
            "grid_template_rows": null,
            "right": null,
            "justify_content": null,
            "_view_module": "@jupyter-widgets/base",
            "overflow": null,
            "_model_module_version": "1.2.0",
            "_view_count": null,
            "flex_flow": null,
            "width": null,
            "min_width": null,
            "border": null,
            "align_items": null,
            "bottom": null,
            "_model_module": "@jupyter-widgets/base",
            "top": null,
            "grid_column": null,
            "overflow_y": null,
            "overflow_x": null,
            "grid_auto_flow": null,
            "grid_area": null,
            "grid_template_columns": null,
            "flex": null,
            "_model_name": "LayoutModel",
            "justify_items": null,
            "grid_row": null,
            "max_height": null,
            "align_content": null,
            "visibility": null,
            "align_self": null,
            "height": null,
            "min_height": null,
            "padding": null,
            "grid_auto_rows": null,
            "grid_gap": null,
            "max_width": null,
            "order": null,
            "_view_module_version": "1.2.0",
            "grid_template_areas": null,
            "object_position": null,
            "object_fit": null,
            "grid_auto_columns": null,
            "margin": null,
            "display": null,
            "left": null
          }
        },
        "56a73b368b0c480cb46f343c0304b199": {
          "model_module": "@jupyter-widgets/controls",
          "model_name": "HTMLModel",
          "model_module_version": "1.5.0",
          "state": {
            "_view_name": "HTMLView",
            "style": "IPY_MODEL_1cc50b4f397e4cef930767a4407b93ba",
            "_dom_classes": [],
            "description": "",
            "_model_name": "HTMLModel",
            "placeholder": "​",
            "_view_module": "@jupyter-widgets/controls",
            "_model_module_version": "1.5.0",
            "value": "Downloading: 100%",
            "_view_count": null,
            "_view_module_version": "1.5.0",
            "description_tooltip": null,
            "_model_module": "@jupyter-widgets/controls",
            "layout": "IPY_MODEL_37203d1d73724bf2bd20f93b3bb3a5f7"
          }
        },
        "c41da7ffc39d4d2d896fa994c331fd1b": {
          "model_module": "@jupyter-widgets/controls",
          "model_name": "FloatProgressModel",
          "model_module_version": "1.5.0",
          "state": {
            "_view_name": "ProgressView",
            "style": "IPY_MODEL_77a7a0318a9c4e1b93a8233840f253c5",
            "_dom_classes": [],
            "description": "",
            "_model_name": "FloatProgressModel",
            "bar_style": "success",
            "max": 29,
            "_view_module": "@jupyter-widgets/controls",
            "_model_module_version": "1.5.0",
            "value": 29,
            "_view_count": null,
            "_view_module_version": "1.5.0",
            "orientation": "horizontal",
            "min": 0,
            "description_tooltip": null,
            "_model_module": "@jupyter-widgets/controls",
            "layout": "IPY_MODEL_7272811868da4d9ea698affb288a51ad"
          }
        },
        "626f68193016463d969a4be2778df0b0": {
          "model_module": "@jupyter-widgets/controls",
          "model_name": "HTMLModel",
          "model_module_version": "1.5.0",
          "state": {
            "_view_name": "HTMLView",
            "style": "IPY_MODEL_e420bfa954c44684ac9118420e4451ec",
            "_dom_classes": [],
            "description": "",
            "_model_name": "HTMLModel",
            "placeholder": "​",
            "_view_module": "@jupyter-widgets/controls",
            "_model_module_version": "1.5.0",
            "value": " 29.0/29.0 [00:00&lt;00:00, 261B/s]",
            "_view_count": null,
            "_view_module_version": "1.5.0",
            "description_tooltip": null,
            "_model_module": "@jupyter-widgets/controls",
            "layout": "IPY_MODEL_85f120c077e74ee4a29819df1ca0de3f"
          }
        },
        "1cc50b4f397e4cef930767a4407b93ba": {
          "model_module": "@jupyter-widgets/controls",
          "model_name": "DescriptionStyleModel",
          "model_module_version": "1.5.0",
          "state": {
            "_view_name": "StyleView",
            "_model_name": "DescriptionStyleModel",
            "description_width": "",
            "_view_module": "@jupyter-widgets/base",
            "_model_module_version": "1.5.0",
            "_view_count": null,
            "_view_module_version": "1.2.0",
            "_model_module": "@jupyter-widgets/controls"
          }
        },
        "37203d1d73724bf2bd20f93b3bb3a5f7": {
          "model_module": "@jupyter-widgets/base",
          "model_name": "LayoutModel",
          "model_module_version": "1.2.0",
          "state": {
            "_view_name": "LayoutView",
            "grid_template_rows": null,
            "right": null,
            "justify_content": null,
            "_view_module": "@jupyter-widgets/base",
            "overflow": null,
            "_model_module_version": "1.2.0",
            "_view_count": null,
            "flex_flow": null,
            "width": null,
            "min_width": null,
            "border": null,
            "align_items": null,
            "bottom": null,
            "_model_module": "@jupyter-widgets/base",
            "top": null,
            "grid_column": null,
            "overflow_y": null,
            "overflow_x": null,
            "grid_auto_flow": null,
            "grid_area": null,
            "grid_template_columns": null,
            "flex": null,
            "_model_name": "LayoutModel",
            "justify_items": null,
            "grid_row": null,
            "max_height": null,
            "align_content": null,
            "visibility": null,
            "align_self": null,
            "height": null,
            "min_height": null,
            "padding": null,
            "grid_auto_rows": null,
            "grid_gap": null,
            "max_width": null,
            "order": null,
            "_view_module_version": "1.2.0",
            "grid_template_areas": null,
            "object_position": null,
            "object_fit": null,
            "grid_auto_columns": null,
            "margin": null,
            "display": null,
            "left": null
          }
        },
        "77a7a0318a9c4e1b93a8233840f253c5": {
          "model_module": "@jupyter-widgets/controls",
          "model_name": "ProgressStyleModel",
          "model_module_version": "1.5.0",
          "state": {
            "_view_name": "StyleView",
            "_model_name": "ProgressStyleModel",
            "description_width": "",
            "_view_module": "@jupyter-widgets/base",
            "_model_module_version": "1.5.0",
            "_view_count": null,
            "_view_module_version": "1.2.0",
            "bar_color": null,
            "_model_module": "@jupyter-widgets/controls"
          }
        },
        "7272811868da4d9ea698affb288a51ad": {
          "model_module": "@jupyter-widgets/base",
          "model_name": "LayoutModel",
          "model_module_version": "1.2.0",
          "state": {
            "_view_name": "LayoutView",
            "grid_template_rows": null,
            "right": null,
            "justify_content": null,
            "_view_module": "@jupyter-widgets/base",
            "overflow": null,
            "_model_module_version": "1.2.0",
            "_view_count": null,
            "flex_flow": null,
            "width": null,
            "min_width": null,
            "border": null,
            "align_items": null,
            "bottom": null,
            "_model_module": "@jupyter-widgets/base",
            "top": null,
            "grid_column": null,
            "overflow_y": null,
            "overflow_x": null,
            "grid_auto_flow": null,
            "grid_area": null,
            "grid_template_columns": null,
            "flex": null,
            "_model_name": "LayoutModel",
            "justify_items": null,
            "grid_row": null,
            "max_height": null,
            "align_content": null,
            "visibility": null,
            "align_self": null,
            "height": null,
            "min_height": null,
            "padding": null,
            "grid_auto_rows": null,
            "grid_gap": null,
            "max_width": null,
            "order": null,
            "_view_module_version": "1.2.0",
            "grid_template_areas": null,
            "object_position": null,
            "object_fit": null,
            "grid_auto_columns": null,
            "margin": null,
            "display": null,
            "left": null
          }
        },
        "e420bfa954c44684ac9118420e4451ec": {
          "model_module": "@jupyter-widgets/controls",
          "model_name": "DescriptionStyleModel",
          "model_module_version": "1.5.0",
          "state": {
            "_view_name": "StyleView",
            "_model_name": "DescriptionStyleModel",
            "description_width": "",
            "_view_module": "@jupyter-widgets/base",
            "_model_module_version": "1.5.0",
            "_view_count": null,
            "_view_module_version": "1.2.0",
            "_model_module": "@jupyter-widgets/controls"
          }
        },
        "85f120c077e74ee4a29819df1ca0de3f": {
          "model_module": "@jupyter-widgets/base",
          "model_name": "LayoutModel",
          "model_module_version": "1.2.0",
          "state": {
            "_view_name": "LayoutView",
            "grid_template_rows": null,
            "right": null,
            "justify_content": null,
            "_view_module": "@jupyter-widgets/base",
            "overflow": null,
            "_model_module_version": "1.2.0",
            "_view_count": null,
            "flex_flow": null,
            "width": null,
            "min_width": null,
            "border": null,
            "align_items": null,
            "bottom": null,
            "_model_module": "@jupyter-widgets/base",
            "top": null,
            "grid_column": null,
            "overflow_y": null,
            "overflow_x": null,
            "grid_auto_flow": null,
            "grid_area": null,
            "grid_template_columns": null,
            "flex": null,
            "_model_name": "LayoutModel",
            "justify_items": null,
            "grid_row": null,
            "max_height": null,
            "align_content": null,
            "visibility": null,
            "align_self": null,
            "height": null,
            "min_height": null,
            "padding": null,
            "grid_auto_rows": null,
            "grid_gap": null,
            "max_width": null,
            "order": null,
            "_view_module_version": "1.2.0",
            "grid_template_areas": null,
            "object_position": null,
            "object_fit": null,
            "grid_auto_columns": null,
            "margin": null,
            "display": null,
            "left": null
          }
        },
        "1b0d09085f70424d9ace143a73cbe884": {
          "model_module": "@jupyter-widgets/controls",
          "model_name": "HBoxModel",
          "model_module_version": "1.5.0",
          "state": {
            "_view_name": "HBoxView",
            "_dom_classes": [],
            "_model_name": "HBoxModel",
            "_view_module": "@jupyter-widgets/controls",
            "_model_module_version": "1.5.0",
            "_view_count": null,
            "_view_module_version": "1.5.0",
            "box_style": "",
            "layout": "IPY_MODEL_74a9ca5e9e0c45c58e9216ea633e7f19",
            "_model_module": "@jupyter-widgets/controls",
            "children": [
              "IPY_MODEL_57c763adf41f4e52886d7081cd5a5716",
              "IPY_MODEL_bade8bc793eb4f9e9c53c480a7c6d678",
              "IPY_MODEL_9e8125cd22934c01aa855a667ca3cfda"
            ]
          }
        },
        "74a9ca5e9e0c45c58e9216ea633e7f19": {
          "model_module": "@jupyter-widgets/base",
          "model_name": "LayoutModel",
          "model_module_version": "1.2.0",
          "state": {
            "_view_name": "LayoutView",
            "grid_template_rows": null,
            "right": null,
            "justify_content": null,
            "_view_module": "@jupyter-widgets/base",
            "overflow": null,
            "_model_module_version": "1.2.0",
            "_view_count": null,
            "flex_flow": null,
            "width": null,
            "min_width": null,
            "border": null,
            "align_items": null,
            "bottom": null,
            "_model_module": "@jupyter-widgets/base",
            "top": null,
            "grid_column": null,
            "overflow_y": null,
            "overflow_x": null,
            "grid_auto_flow": null,
            "grid_area": null,
            "grid_template_columns": null,
            "flex": null,
            "_model_name": "LayoutModel",
            "justify_items": null,
            "grid_row": null,
            "max_height": null,
            "align_content": null,
            "visibility": null,
            "align_self": null,
            "height": null,
            "min_height": null,
            "padding": null,
            "grid_auto_rows": null,
            "grid_gap": null,
            "max_width": null,
            "order": null,
            "_view_module_version": "1.2.0",
            "grid_template_areas": null,
            "object_position": null,
            "object_fit": null,
            "grid_auto_columns": null,
            "margin": null,
            "display": null,
            "left": null
          }
        },
        "57c763adf41f4e52886d7081cd5a5716": {
          "model_module": "@jupyter-widgets/controls",
          "model_name": "HTMLModel",
          "model_module_version": "1.5.0",
          "state": {
            "_view_name": "HTMLView",
            "style": "IPY_MODEL_4a34e93259c744af9eb1763b1c57ae82",
            "_dom_classes": [],
            "description": "",
            "_model_name": "HTMLModel",
            "placeholder": "​",
            "_view_module": "@jupyter-widgets/controls",
            "_model_module_version": "1.5.0",
            "value": "Downloading: 100%",
            "_view_count": null,
            "_view_module_version": "1.5.0",
            "description_tooltip": null,
            "_model_module": "@jupyter-widgets/controls",
            "layout": "IPY_MODEL_48a9338e339e4d9e85c39a24a2c5b336"
          }
        },
        "bade8bc793eb4f9e9c53c480a7c6d678": {
          "model_module": "@jupyter-widgets/controls",
          "model_name": "FloatProgressModel",
          "model_module_version": "1.5.0",
          "state": {
            "_view_name": "ProgressView",
            "style": "IPY_MODEL_0c1b58b4aef14e0e8431df7d23fd104a",
            "_dom_classes": [],
            "description": "",
            "_model_name": "FloatProgressModel",
            "bar_style": "success",
            "max": 435797,
            "_view_module": "@jupyter-widgets/controls",
            "_model_module_version": "1.5.0",
            "value": 435797,
            "_view_count": null,
            "_view_module_version": "1.5.0",
            "orientation": "horizontal",
            "min": 0,
            "description_tooltip": null,
            "_model_module": "@jupyter-widgets/controls",
            "layout": "IPY_MODEL_f8c13f7b6c074c5a873db102b6cdf373"
          }
        },
        "9e8125cd22934c01aa855a667ca3cfda": {
          "model_module": "@jupyter-widgets/controls",
          "model_name": "HTMLModel",
          "model_module_version": "1.5.0",
          "state": {
            "_view_name": "HTMLView",
            "style": "IPY_MODEL_c3c775cf531b48788cba43ee58237c5f",
            "_dom_classes": [],
            "description": "",
            "_model_name": "HTMLModel",
            "placeholder": "​",
            "_view_module": "@jupyter-widgets/controls",
            "_model_module_version": "1.5.0",
            "value": " 426k/426k [00:00&lt;00:00, 683kB/s]",
            "_view_count": null,
            "_view_module_version": "1.5.0",
            "description_tooltip": null,
            "_model_module": "@jupyter-widgets/controls",
            "layout": "IPY_MODEL_a119e77652584fd9b44881a7bdcc9b18"
          }
        },
        "4a34e93259c744af9eb1763b1c57ae82": {
          "model_module": "@jupyter-widgets/controls",
          "model_name": "DescriptionStyleModel",
          "model_module_version": "1.5.0",
          "state": {
            "_view_name": "StyleView",
            "_model_name": "DescriptionStyleModel",
            "description_width": "",
            "_view_module": "@jupyter-widgets/base",
            "_model_module_version": "1.5.0",
            "_view_count": null,
            "_view_module_version": "1.2.0",
            "_model_module": "@jupyter-widgets/controls"
          }
        },
        "48a9338e339e4d9e85c39a24a2c5b336": {
          "model_module": "@jupyter-widgets/base",
          "model_name": "LayoutModel",
          "model_module_version": "1.2.0",
          "state": {
            "_view_name": "LayoutView",
            "grid_template_rows": null,
            "right": null,
            "justify_content": null,
            "_view_module": "@jupyter-widgets/base",
            "overflow": null,
            "_model_module_version": "1.2.0",
            "_view_count": null,
            "flex_flow": null,
            "width": null,
            "min_width": null,
            "border": null,
            "align_items": null,
            "bottom": null,
            "_model_module": "@jupyter-widgets/base",
            "top": null,
            "grid_column": null,
            "overflow_y": null,
            "overflow_x": null,
            "grid_auto_flow": null,
            "grid_area": null,
            "grid_template_columns": null,
            "flex": null,
            "_model_name": "LayoutModel",
            "justify_items": null,
            "grid_row": null,
            "max_height": null,
            "align_content": null,
            "visibility": null,
            "align_self": null,
            "height": null,
            "min_height": null,
            "padding": null,
            "grid_auto_rows": null,
            "grid_gap": null,
            "max_width": null,
            "order": null,
            "_view_module_version": "1.2.0",
            "grid_template_areas": null,
            "object_position": null,
            "object_fit": null,
            "grid_auto_columns": null,
            "margin": null,
            "display": null,
            "left": null
          }
        },
        "0c1b58b4aef14e0e8431df7d23fd104a": {
          "model_module": "@jupyter-widgets/controls",
          "model_name": "ProgressStyleModel",
          "model_module_version": "1.5.0",
          "state": {
            "_view_name": "StyleView",
            "_model_name": "ProgressStyleModel",
            "description_width": "",
            "_view_module": "@jupyter-widgets/base",
            "_model_module_version": "1.5.0",
            "_view_count": null,
            "_view_module_version": "1.2.0",
            "bar_color": null,
            "_model_module": "@jupyter-widgets/controls"
          }
        },
        "f8c13f7b6c074c5a873db102b6cdf373": {
          "model_module": "@jupyter-widgets/base",
          "model_name": "LayoutModel",
          "model_module_version": "1.2.0",
          "state": {
            "_view_name": "LayoutView",
            "grid_template_rows": null,
            "right": null,
            "justify_content": null,
            "_view_module": "@jupyter-widgets/base",
            "overflow": null,
            "_model_module_version": "1.2.0",
            "_view_count": null,
            "flex_flow": null,
            "width": null,
            "min_width": null,
            "border": null,
            "align_items": null,
            "bottom": null,
            "_model_module": "@jupyter-widgets/base",
            "top": null,
            "grid_column": null,
            "overflow_y": null,
            "overflow_x": null,
            "grid_auto_flow": null,
            "grid_area": null,
            "grid_template_columns": null,
            "flex": null,
            "_model_name": "LayoutModel",
            "justify_items": null,
            "grid_row": null,
            "max_height": null,
            "align_content": null,
            "visibility": null,
            "align_self": null,
            "height": null,
            "min_height": null,
            "padding": null,
            "grid_auto_rows": null,
            "grid_gap": null,
            "max_width": null,
            "order": null,
            "_view_module_version": "1.2.0",
            "grid_template_areas": null,
            "object_position": null,
            "object_fit": null,
            "grid_auto_columns": null,
            "margin": null,
            "display": null,
            "left": null
          }
        },
        "c3c775cf531b48788cba43ee58237c5f": {
          "model_module": "@jupyter-widgets/controls",
          "model_name": "DescriptionStyleModel",
          "model_module_version": "1.5.0",
          "state": {
            "_view_name": "StyleView",
            "_model_name": "DescriptionStyleModel",
            "description_width": "",
            "_view_module": "@jupyter-widgets/base",
            "_model_module_version": "1.5.0",
            "_view_count": null,
            "_view_module_version": "1.2.0",
            "_model_module": "@jupyter-widgets/controls"
          }
        },
        "a119e77652584fd9b44881a7bdcc9b18": {
          "model_module": "@jupyter-widgets/base",
          "model_name": "LayoutModel",
          "model_module_version": "1.2.0",
          "state": {
            "_view_name": "LayoutView",
            "grid_template_rows": null,
            "right": null,
            "justify_content": null,
            "_view_module": "@jupyter-widgets/base",
            "overflow": null,
            "_model_module_version": "1.2.0",
            "_view_count": null,
            "flex_flow": null,
            "width": null,
            "min_width": null,
            "border": null,
            "align_items": null,
            "bottom": null,
            "_model_module": "@jupyter-widgets/base",
            "top": null,
            "grid_column": null,
            "overflow_y": null,
            "overflow_x": null,
            "grid_auto_flow": null,
            "grid_area": null,
            "grid_template_columns": null,
            "flex": null,
            "_model_name": "LayoutModel",
            "justify_items": null,
            "grid_row": null,
            "max_height": null,
            "align_content": null,
            "visibility": null,
            "align_self": null,
            "height": null,
            "min_height": null,
            "padding": null,
            "grid_auto_rows": null,
            "grid_gap": null,
            "max_width": null,
            "order": null,
            "_view_module_version": "1.2.0",
            "grid_template_areas": null,
            "object_position": null,
            "object_fit": null,
            "grid_auto_columns": null,
            "margin": null,
            "display": null,
            "left": null
          }
        },
        "d4b68b5bed594f7f9045ad6d82f12a7f": {
          "model_module": "@jupyter-widgets/controls",
          "model_name": "HBoxModel",
          "model_module_version": "1.5.0",
          "state": {
            "_view_name": "HBoxView",
            "_dom_classes": [],
            "_model_name": "HBoxModel",
            "_view_module": "@jupyter-widgets/controls",
            "_model_module_version": "1.5.0",
            "_view_count": null,
            "_view_module_version": "1.5.0",
            "box_style": "",
            "layout": "IPY_MODEL_30386f78492e4981baa6196cf59c3593",
            "_model_module": "@jupyter-widgets/controls",
            "children": [
              "IPY_MODEL_b4ae2d19117d4ef78e4c22a87719e412",
              "IPY_MODEL_f432ecb008a14cff9fd760f2d31cdc9d",
              "IPY_MODEL_f978b0ced5f045659498ee35a6fd0fd5"
            ]
          }
        },
        "30386f78492e4981baa6196cf59c3593": {
          "model_module": "@jupyter-widgets/base",
          "model_name": "LayoutModel",
          "model_module_version": "1.2.0",
          "state": {
            "_view_name": "LayoutView",
            "grid_template_rows": null,
            "right": null,
            "justify_content": null,
            "_view_module": "@jupyter-widgets/base",
            "overflow": null,
            "_model_module_version": "1.2.0",
            "_view_count": null,
            "flex_flow": null,
            "width": null,
            "min_width": null,
            "border": null,
            "align_items": null,
            "bottom": null,
            "_model_module": "@jupyter-widgets/base",
            "top": null,
            "grid_column": null,
            "overflow_y": null,
            "overflow_x": null,
            "grid_auto_flow": null,
            "grid_area": null,
            "grid_template_columns": null,
            "flex": null,
            "_model_name": "LayoutModel",
            "justify_items": null,
            "grid_row": null,
            "max_height": null,
            "align_content": null,
            "visibility": null,
            "align_self": null,
            "height": null,
            "min_height": null,
            "padding": null,
            "grid_auto_rows": null,
            "grid_gap": null,
            "max_width": null,
            "order": null,
            "_view_module_version": "1.2.0",
            "grid_template_areas": null,
            "object_position": null,
            "object_fit": null,
            "grid_auto_columns": null,
            "margin": null,
            "display": null,
            "left": null
          }
        },
        "b4ae2d19117d4ef78e4c22a87719e412": {
          "model_module": "@jupyter-widgets/controls",
          "model_name": "HTMLModel",
          "model_module_version": "1.5.0",
          "state": {
            "_view_name": "HTMLView",
            "style": "IPY_MODEL_753508614f2c4b44858cc7e635d8d7a5",
            "_dom_classes": [],
            "description": "",
            "_model_name": "HTMLModel",
            "placeholder": "​",
            "_view_module": "@jupyter-widgets/controls",
            "_model_module_version": "1.5.0",
            "value": "Downloading: 100%",
            "_view_count": null,
            "_view_module_version": "1.5.0",
            "description_tooltip": null,
            "_model_module": "@jupyter-widgets/controls",
            "layout": "IPY_MODEL_afc2b2ec39814d12ac234c554a95d01f"
          }
        },
        "f432ecb008a14cff9fd760f2d31cdc9d": {
          "model_module": "@jupyter-widgets/controls",
          "model_name": "FloatProgressModel",
          "model_module_version": "1.5.0",
          "state": {
            "_view_name": "ProgressView",
            "style": "IPY_MODEL_287eaf726b1d4bf4a8ff3c1b853949e3",
            "_dom_classes": [],
            "description": "",
            "_model_name": "FloatProgressModel",
            "bar_style": "success",
            "max": 411,
            "_view_module": "@jupyter-widgets/controls",
            "_model_module_version": "1.5.0",
            "value": 411,
            "_view_count": null,
            "_view_module_version": "1.5.0",
            "orientation": "horizontal",
            "min": 0,
            "description_tooltip": null,
            "_model_module": "@jupyter-widgets/controls",
            "layout": "IPY_MODEL_9606945e46274ce2b51a9e1034ef8555"
          }
        },
        "f978b0ced5f045659498ee35a6fd0fd5": {
          "model_module": "@jupyter-widgets/controls",
          "model_name": "HTMLModel",
          "model_module_version": "1.5.0",
          "state": {
            "_view_name": "HTMLView",
            "style": "IPY_MODEL_9b5fdc8119bc4d109ed66f46157582c2",
            "_dom_classes": [],
            "description": "",
            "_model_name": "HTMLModel",
            "placeholder": "​",
            "_view_module": "@jupyter-widgets/controls",
            "_model_module_version": "1.5.0",
            "value": " 411/411 [00:00&lt;00:00, 2.45kB/s]",
            "_view_count": null,
            "_view_module_version": "1.5.0",
            "description_tooltip": null,
            "_model_module": "@jupyter-widgets/controls",
            "layout": "IPY_MODEL_47fa057e989c4987a1a709eace4ac22e"
          }
        },
        "753508614f2c4b44858cc7e635d8d7a5": {
          "model_module": "@jupyter-widgets/controls",
          "model_name": "DescriptionStyleModel",
          "model_module_version": "1.5.0",
          "state": {
            "_view_name": "StyleView",
            "_model_name": "DescriptionStyleModel",
            "description_width": "",
            "_view_module": "@jupyter-widgets/base",
            "_model_module_version": "1.5.0",
            "_view_count": null,
            "_view_module_version": "1.2.0",
            "_model_module": "@jupyter-widgets/controls"
          }
        },
        "afc2b2ec39814d12ac234c554a95d01f": {
          "model_module": "@jupyter-widgets/base",
          "model_name": "LayoutModel",
          "model_module_version": "1.2.0",
          "state": {
            "_view_name": "LayoutView",
            "grid_template_rows": null,
            "right": null,
            "justify_content": null,
            "_view_module": "@jupyter-widgets/base",
            "overflow": null,
            "_model_module_version": "1.2.0",
            "_view_count": null,
            "flex_flow": null,
            "width": null,
            "min_width": null,
            "border": null,
            "align_items": null,
            "bottom": null,
            "_model_module": "@jupyter-widgets/base",
            "top": null,
            "grid_column": null,
            "overflow_y": null,
            "overflow_x": null,
            "grid_auto_flow": null,
            "grid_area": null,
            "grid_template_columns": null,
            "flex": null,
            "_model_name": "LayoutModel",
            "justify_items": null,
            "grid_row": null,
            "max_height": null,
            "align_content": null,
            "visibility": null,
            "align_self": null,
            "height": null,
            "min_height": null,
            "padding": null,
            "grid_auto_rows": null,
            "grid_gap": null,
            "max_width": null,
            "order": null,
            "_view_module_version": "1.2.0",
            "grid_template_areas": null,
            "object_position": null,
            "object_fit": null,
            "grid_auto_columns": null,
            "margin": null,
            "display": null,
            "left": null
          }
        },
        "287eaf726b1d4bf4a8ff3c1b853949e3": {
          "model_module": "@jupyter-widgets/controls",
          "model_name": "ProgressStyleModel",
          "model_module_version": "1.5.0",
          "state": {
            "_view_name": "StyleView",
            "_model_name": "ProgressStyleModel",
            "description_width": "",
            "_view_module": "@jupyter-widgets/base",
            "_model_module_version": "1.5.0",
            "_view_count": null,
            "_view_module_version": "1.2.0",
            "bar_color": null,
            "_model_module": "@jupyter-widgets/controls"
          }
        },
        "9606945e46274ce2b51a9e1034ef8555": {
          "model_module": "@jupyter-widgets/base",
          "model_name": "LayoutModel",
          "model_module_version": "1.2.0",
          "state": {
            "_view_name": "LayoutView",
            "grid_template_rows": null,
            "right": null,
            "justify_content": null,
            "_view_module": "@jupyter-widgets/base",
            "overflow": null,
            "_model_module_version": "1.2.0",
            "_view_count": null,
            "flex_flow": null,
            "width": null,
            "min_width": null,
            "border": null,
            "align_items": null,
            "bottom": null,
            "_model_module": "@jupyter-widgets/base",
            "top": null,
            "grid_column": null,
            "overflow_y": null,
            "overflow_x": null,
            "grid_auto_flow": null,
            "grid_area": null,
            "grid_template_columns": null,
            "flex": null,
            "_model_name": "LayoutModel",
            "justify_items": null,
            "grid_row": null,
            "max_height": null,
            "align_content": null,
            "visibility": null,
            "align_self": null,
            "height": null,
            "min_height": null,
            "padding": null,
            "grid_auto_rows": null,
            "grid_gap": null,
            "max_width": null,
            "order": null,
            "_view_module_version": "1.2.0",
            "grid_template_areas": null,
            "object_position": null,
            "object_fit": null,
            "grid_auto_columns": null,
            "margin": null,
            "display": null,
            "left": null
          }
        },
        "9b5fdc8119bc4d109ed66f46157582c2": {
          "model_module": "@jupyter-widgets/controls",
          "model_name": "DescriptionStyleModel",
          "model_module_version": "1.5.0",
          "state": {
            "_view_name": "StyleView",
            "_model_name": "DescriptionStyleModel",
            "description_width": "",
            "_view_module": "@jupyter-widgets/base",
            "_model_module_version": "1.5.0",
            "_view_count": null,
            "_view_module_version": "1.2.0",
            "_model_module": "@jupyter-widgets/controls"
          }
        },
        "47fa057e989c4987a1a709eace4ac22e": {
          "model_module": "@jupyter-widgets/base",
          "model_name": "LayoutModel",
          "model_module_version": "1.2.0",
          "state": {
            "_view_name": "LayoutView",
            "grid_template_rows": null,
            "right": null,
            "justify_content": null,
            "_view_module": "@jupyter-widgets/base",
            "overflow": null,
            "_model_module_version": "1.2.0",
            "_view_count": null,
            "flex_flow": null,
            "width": null,
            "min_width": null,
            "border": null,
            "align_items": null,
            "bottom": null,
            "_model_module": "@jupyter-widgets/base",
            "top": null,
            "grid_column": null,
            "overflow_y": null,
            "overflow_x": null,
            "grid_auto_flow": null,
            "grid_area": null,
            "grid_template_columns": null,
            "flex": null,
            "_model_name": "LayoutModel",
            "justify_items": null,
            "grid_row": null,
            "max_height": null,
            "align_content": null,
            "visibility": null,
            "align_self": null,
            "height": null,
            "min_height": null,
            "padding": null,
            "grid_auto_rows": null,
            "grid_gap": null,
            "max_width": null,
            "order": null,
            "_view_module_version": "1.2.0",
            "grid_template_areas": null,
            "object_position": null,
            "object_fit": null,
            "grid_auto_columns": null,
            "margin": null,
            "display": null,
            "left": null
          }
        }
      }
    }
  },
  "cells": [
    {
      "cell_type": "markdown",
      "metadata": {
        "id": "view-in-github",
        "colab_type": "text"
      },
      "source": [
        "<a href=\"https://colab.research.google.com/github/edofreeg/text-analysis/blob/main/movie_classification.ipynb\" target=\"_parent\"><img src=\"https://colab.research.google.com/assets/colab-badge.svg\" alt=\"Open In Colab\"/></a>"
      ]
    },
    {
      "cell_type": "markdown",
      "source": [
        "# **MOVIE PLOTS CLASSIFICATION PROJECT**\n",
        "Students:\n",
        "*Edoardo Frigerio, Mattia De Masi, Lorenzo Scandolara*\n",
        "Professor: Andrea Belli\n",
        "Subject: Text Mining\n",
        "\n",
        "**Introduction**\n",
        "\n",
        "This project is based on a dataset freely available on github at https://media.githubusercontent.com/media/nluninja/nlp_datasets/main/wikipedia_movie_plots/data/wiki_movie_plots_deduped.csv .\n",
        "\n",
        "The dataset is composed by 34886 observations gathered from 1901 to 2017. For each observation we have some relevant features such as the title, year release, genre and the plot from wikipedia.\n",
        "\n",
        "Our aim is to train a model in order to be able to classify plots of movies with different labels corresponding to different movies genre. We have used 2 different architecture (***LSTM*** and ***BERT***) and we have tried to compare these models to understand strengths and weaknesses for each.\n",
        "\n",
        "\n"
      ],
      "metadata": {
        "id": "oluiHL4a9_EG"
      }
    },
    {
      "cell_type": "markdown",
      "metadata": {
        "id": "1iDi5xycNL84"
      },
      "source": [
        "## (1) Import libraries\n",
        "This cell is used to import all the necessary packages and libraries that we have used in the project."
      ]
    },
    {
      "cell_type": "code",
      "source": [
        "!pip install transformers\n",
        "!pip install --upgrade tqdm"
      ],
      "metadata": {
        "id": "NcINulu9l_Oe"
      },
      "execution_count": null,
      "outputs": []
    },
    {
      "cell_type": "code",
      "metadata": {
        "id": "XRlCVBYsMqVF",
        "colab": {
          "base_uri": "https://localhost:8080/"
        },
        "outputId": "3c72a21b-7d45-4468-e3e7-ef9a255dbf8f"
      },
      "source": [
        "import pandas as pd\n",
        "import matplotlib.pyplot as plt\n",
        "import numpy as np\n",
        "from matplotlib import colors\n",
        "from matplotlib.ticker import PercentFormatter\n",
        "from collections import Counter\n",
        "import nltk\n",
        "import spacy \n",
        "import seaborn as sns\n",
        "from tqdm import tqdm\n",
        "from sklearn import metrics\n",
        "from nltk.corpus import stopwords\n",
        "nlp = spacy.load('en_core_web_sm')\n",
        "from tensorflow.keras.preprocessing.sequence import pad_sequences\n",
        "from sklearn.feature_extraction.text import CountVectorizer\n",
        "from keras.preprocessing.text import Tokenizer\n",
        "from keras.preprocessing.sequence import pad_sequences\n",
        "from keras.models import Sequential\n",
        "from keras.callbacks import ModelCheckpoint, EarlyStopping\n",
        "from keras.layers import Dense, Embedding, LSTM, SpatialDropout1D, TimeDistributed, Dropout, Bidirectional, InputLayer, concatenate, Reshape\n",
        "from sklearn.model_selection import train_test_split\n",
        "from keras.utils.np_utils import to_categorical\n",
        "import torch\n",
        "import re\n",
        "import tensorflow\n",
        "from tensorflow import keras\n",
        "from tensorflow.keras import layers\n",
        "from nltk.stem import WordNetLemmatizer\n",
        "from sklearn.metrics import classification_report, confusion_matrix, ConfusionMatrixDisplay\n",
        "from sklearn.svm import SVC\n",
        "from sklearn.datasets import make_classification\n",
        "import string\n",
        "import itertools\n",
        "import transformers\n",
        "from torch.utils.data import Dataset, DataLoader\n",
        "from transformers import DistilBertModel, DistilBertTokenizer\n",
        "from torch import cuda\n",
        "device = 'cuda' if cuda.is_available() else 'cpu'\n",
        "from nltk.tokenize import word_tokenize\n",
        "from nltk.stem import WordNetLemmatizer\n",
        "from nltk.stem import PorterStemmer\n",
        "nltk.download('punkt')\n",
        "nltk.download('stopwords')\n",
        "nltk.download(\"wordnet\")"
      ],
      "execution_count": null,
      "outputs": [
        {
          "output_type": "stream",
          "name": "stdout",
          "text": [
            "[nltk_data] Downloading package punkt to /root/nltk_data...\n",
            "[nltk_data]   Unzipping tokenizers/punkt.zip.\n",
            "[nltk_data] Downloading package stopwords to /root/nltk_data...\n",
            "[nltk_data]   Unzipping corpora/stopwords.zip.\n",
            "[nltk_data] Downloading package wordnet to /root/nltk_data...\n",
            "[nltk_data]   Unzipping corpora/wordnet.zip.\n"
          ]
        },
        {
          "output_type": "execute_result",
          "data": {
            "text/plain": [
              "True"
            ]
          },
          "metadata": {},
          "execution_count": 2
        }
      ]
    },
    {
      "cell_type": "markdown",
      "metadata": {
        "id": "AU87wf00Rjhi"
      },
      "source": [
        "## (2) Load the Data\n",
        "Our dataset is made up of 34886 rows and 8 columns. The columns represent:\n",
        "* Release Year\n",
        "* Title\n",
        "* Origin/Ethnicity\n",
        "* Director\n",
        "* Cast\n",
        "* Genre\n",
        "* Wiki Page\n",
        "* Plot\n",
        "\n",
        "Our aim is find the movie's Genre starting from the description in the Plot column.\n",
        "\n"
      ]
    },
    {
      "cell_type": "code",
      "metadata": {
        "id": "S2jBGsYxNAbg"
      },
      "source": [
        "movies = pd.read_csv('https://media.githubusercontent.com/media/nluninja/nlp_datasets/main/wikipedia_movie_plots/data/wiki_movie_plots_deduped.csv')"
      ],
      "execution_count": null,
      "outputs": []
    },
    {
      "cell_type": "code",
      "source": [
        "movies.head()"
      ],
      "metadata": {
        "id": "9huz-NHCOpLu",
        "colab": {
          "base_uri": "https://localhost:8080/",
          "height": 406
        },
        "outputId": "bc0aefd5-7abf-4628-c7f5-fd09d21fff72"
      },
      "execution_count": null,
      "outputs": [
        {
          "output_type": "execute_result",
          "data": {
            "text/html": [
              "\n",
              "  <div id=\"df-3153a5aa-9a1d-4f8d-9c0d-021f34b6fdff\">\n",
              "    <div class=\"colab-df-container\">\n",
              "      <div>\n",
              "<style scoped>\n",
              "    .dataframe tbody tr th:only-of-type {\n",
              "        vertical-align: middle;\n",
              "    }\n",
              "\n",
              "    .dataframe tbody tr th {\n",
              "        vertical-align: top;\n",
              "    }\n",
              "\n",
              "    .dataframe thead th {\n",
              "        text-align: right;\n",
              "    }\n",
              "</style>\n",
              "<table border=\"1\" class=\"dataframe\">\n",
              "  <thead>\n",
              "    <tr style=\"text-align: right;\">\n",
              "      <th></th>\n",
              "      <th>Release Year</th>\n",
              "      <th>Title</th>\n",
              "      <th>Origin/Ethnicity</th>\n",
              "      <th>Director</th>\n",
              "      <th>Cast</th>\n",
              "      <th>Genre</th>\n",
              "      <th>Wiki Page</th>\n",
              "      <th>Plot</th>\n",
              "    </tr>\n",
              "  </thead>\n",
              "  <tbody>\n",
              "    <tr>\n",
              "      <th>0</th>\n",
              "      <td>1901</td>\n",
              "      <td>Kansas Saloon Smashers</td>\n",
              "      <td>American</td>\n",
              "      <td>Unknown</td>\n",
              "      <td>NaN</td>\n",
              "      <td>unknown</td>\n",
              "      <td>https://en.wikipedia.org/wiki/Kansas_Saloon_Sm...</td>\n",
              "      <td>A bartender is working at a saloon, serving dr...</td>\n",
              "    </tr>\n",
              "    <tr>\n",
              "      <th>1</th>\n",
              "      <td>1901</td>\n",
              "      <td>Love by the Light of the Moon</td>\n",
              "      <td>American</td>\n",
              "      <td>Unknown</td>\n",
              "      <td>NaN</td>\n",
              "      <td>unknown</td>\n",
              "      <td>https://en.wikipedia.org/wiki/Love_by_the_Ligh...</td>\n",
              "      <td>The moon, painted with a smiling face hangs ov...</td>\n",
              "    </tr>\n",
              "    <tr>\n",
              "      <th>2</th>\n",
              "      <td>1901</td>\n",
              "      <td>The Martyred Presidents</td>\n",
              "      <td>American</td>\n",
              "      <td>Unknown</td>\n",
              "      <td>NaN</td>\n",
              "      <td>unknown</td>\n",
              "      <td>https://en.wikipedia.org/wiki/The_Martyred_Pre...</td>\n",
              "      <td>The film, just over a minute long, is composed...</td>\n",
              "    </tr>\n",
              "    <tr>\n",
              "      <th>3</th>\n",
              "      <td>1901</td>\n",
              "      <td>Terrible Teddy, the Grizzly King</td>\n",
              "      <td>American</td>\n",
              "      <td>Unknown</td>\n",
              "      <td>NaN</td>\n",
              "      <td>unknown</td>\n",
              "      <td>https://en.wikipedia.org/wiki/Terrible_Teddy,_...</td>\n",
              "      <td>Lasting just 61 seconds and consisting of two ...</td>\n",
              "    </tr>\n",
              "    <tr>\n",
              "      <th>4</th>\n",
              "      <td>1902</td>\n",
              "      <td>Jack and the Beanstalk</td>\n",
              "      <td>American</td>\n",
              "      <td>George S. Fleming, Edwin S. Porter</td>\n",
              "      <td>NaN</td>\n",
              "      <td>unknown</td>\n",
              "      <td>https://en.wikipedia.org/wiki/Jack_and_the_Bea...</td>\n",
              "      <td>The earliest known adaptation of the classic f...</td>\n",
              "    </tr>\n",
              "  </tbody>\n",
              "</table>\n",
              "</div>\n",
              "      <button class=\"colab-df-convert\" onclick=\"convertToInteractive('df-3153a5aa-9a1d-4f8d-9c0d-021f34b6fdff')\"\n",
              "              title=\"Convert this dataframe to an interactive table.\"\n",
              "              style=\"display:none;\">\n",
              "        \n",
              "  <svg xmlns=\"http://www.w3.org/2000/svg\" height=\"24px\"viewBox=\"0 0 24 24\"\n",
              "       width=\"24px\">\n",
              "    <path d=\"M0 0h24v24H0V0z\" fill=\"none\"/>\n",
              "    <path d=\"M18.56 5.44l.94 2.06.94-2.06 2.06-.94-2.06-.94-.94-2.06-.94 2.06-2.06.94zm-11 1L8.5 8.5l.94-2.06 2.06-.94-2.06-.94L8.5 2.5l-.94 2.06-2.06.94zm10 10l.94 2.06.94-2.06 2.06-.94-2.06-.94-.94-2.06-.94 2.06-2.06.94z\"/><path d=\"M17.41 7.96l-1.37-1.37c-.4-.4-.92-.59-1.43-.59-.52 0-1.04.2-1.43.59L10.3 9.45l-7.72 7.72c-.78.78-.78 2.05 0 2.83L4 21.41c.39.39.9.59 1.41.59.51 0 1.02-.2 1.41-.59l7.78-7.78 2.81-2.81c.8-.78.8-2.07 0-2.86zM5.41 20L4 18.59l7.72-7.72 1.47 1.35L5.41 20z\"/>\n",
              "  </svg>\n",
              "      </button>\n",
              "      \n",
              "  <style>\n",
              "    .colab-df-container {\n",
              "      display:flex;\n",
              "      flex-wrap:wrap;\n",
              "      gap: 12px;\n",
              "    }\n",
              "\n",
              "    .colab-df-convert {\n",
              "      background-color: #E8F0FE;\n",
              "      border: none;\n",
              "      border-radius: 50%;\n",
              "      cursor: pointer;\n",
              "      display: none;\n",
              "      fill: #1967D2;\n",
              "      height: 32px;\n",
              "      padding: 0 0 0 0;\n",
              "      width: 32px;\n",
              "    }\n",
              "\n",
              "    .colab-df-convert:hover {\n",
              "      background-color: #E2EBFA;\n",
              "      box-shadow: 0px 1px 2px rgba(60, 64, 67, 0.3), 0px 1px 3px 1px rgba(60, 64, 67, 0.15);\n",
              "      fill: #174EA6;\n",
              "    }\n",
              "\n",
              "    [theme=dark] .colab-df-convert {\n",
              "      background-color: #3B4455;\n",
              "      fill: #D2E3FC;\n",
              "    }\n",
              "\n",
              "    [theme=dark] .colab-df-convert:hover {\n",
              "      background-color: #434B5C;\n",
              "      box-shadow: 0px 1px 3px 1px rgba(0, 0, 0, 0.15);\n",
              "      filter: drop-shadow(0px 1px 2px rgba(0, 0, 0, 0.3));\n",
              "      fill: #FFFFFF;\n",
              "    }\n",
              "  </style>\n",
              "\n",
              "      <script>\n",
              "        const buttonEl =\n",
              "          document.querySelector('#df-3153a5aa-9a1d-4f8d-9c0d-021f34b6fdff button.colab-df-convert');\n",
              "        buttonEl.style.display =\n",
              "          google.colab.kernel.accessAllowed ? 'block' : 'none';\n",
              "\n",
              "        async function convertToInteractive(key) {\n",
              "          const element = document.querySelector('#df-3153a5aa-9a1d-4f8d-9c0d-021f34b6fdff');\n",
              "          const dataTable =\n",
              "            await google.colab.kernel.invokeFunction('convertToInteractive',\n",
              "                                                     [key], {});\n",
              "          if (!dataTable) return;\n",
              "\n",
              "          const docLinkHtml = 'Like what you see? Visit the ' +\n",
              "            '<a target=\"_blank\" href=https://colab.research.google.com/notebooks/data_table.ipynb>data table notebook</a>'\n",
              "            + ' to learn more about interactive tables.';\n",
              "          element.innerHTML = '';\n",
              "          dataTable['output_type'] = 'display_data';\n",
              "          await google.colab.output.renderOutput(dataTable, element);\n",
              "          const docLink = document.createElement('div');\n",
              "          docLink.innerHTML = docLinkHtml;\n",
              "          element.appendChild(docLink);\n",
              "        }\n",
              "      </script>\n",
              "    </div>\n",
              "  </div>\n",
              "  "
            ],
            "text/plain": [
              "   Release Year  ...                                               Plot\n",
              "0          1901  ...  A bartender is working at a saloon, serving dr...\n",
              "1          1901  ...  The moon, painted with a smiling face hangs ov...\n",
              "2          1901  ...  The film, just over a minute long, is composed...\n",
              "3          1901  ...  Lasting just 61 seconds and consisting of two ...\n",
              "4          1902  ...  The earliest known adaptation of the classic f...\n",
              "\n",
              "[5 rows x 8 columns]"
            ]
          },
          "metadata": {},
          "execution_count": 4
        }
      ]
    },
    {
      "cell_type": "code",
      "source": [
        "len(movies)"
      ],
      "metadata": {
        "colab": {
          "base_uri": "https://localhost:8080/"
        },
        "id": "ZYilv_QgC3oF",
        "outputId": "142db110-46ef-46a8-db4e-a5b15cb2d888"
      },
      "execution_count": null,
      "outputs": [
        {
          "output_type": "execute_result",
          "data": {
            "text/plain": [
              "34886"
            ]
          },
          "metadata": {},
          "execution_count": 5
        }
      ]
    },
    {
      "cell_type": "markdown",
      "source": [
        "## (3) Data cleaning\n",
        "Let's start to clean the dataset. \n",
        "We are going to remove all columns which are not useful for our task. We end up with a dataset composed only with \"Genre\", \"Release Year\" and \"Plot\" colums form the previous dataset."
      ],
      "metadata": {
        "id": "lDofmqto-4zA"
      }
    },
    {
      "cell_type": "code",
      "metadata": {
        "id": "bxh4N8--NAeg"
      },
      "source": [
        "movies_edit = movies[[\"Genre\",\"Release Year\",\"Plot\"]]"
      ],
      "execution_count": null,
      "outputs": []
    },
    {
      "cell_type": "markdown",
      "source": [
        "Let's remove nuisances as unknown values or duplicates."
      ],
      "metadata": {
        "id": "EjTQrb65-E-o"
      }
    },
    {
      "cell_type": "code",
      "metadata": {
        "id": "WW8auRBxKAfT"
      },
      "source": [
        "i = movies_edit[(movies_edit.Genre == 'unknown')].index\n",
        "movies_edit=movies_edit.drop(i)\n",
        "i = movies_edit[(movies_edit.Genre ==' ') ].index\n",
        "movies_edit=movies_edit.drop(i)\n",
        "movies_edit=movies_edit.drop_duplicates(subset=['Plot'])\n",
        "movies_edit=movies_edit.reset_index()"
      ],
      "execution_count": null,
      "outputs": []
    },
    {
      "cell_type": "code",
      "source": [
        "movies_edit.head()"
      ],
      "metadata": {
        "colab": {
          "base_uri": "https://localhost:8080/",
          "height": 206
        },
        "id": "vXPJqkGKDTl_",
        "outputId": "2705da97-b80a-4501-d343-ab2223fac2df"
      },
      "execution_count": null,
      "outputs": [
        {
          "output_type": "execute_result",
          "data": {
            "text/html": [
              "\n",
              "  <div id=\"df-f833248e-faa2-409e-aea2-be8cb8999677\">\n",
              "    <div class=\"colab-df-container\">\n",
              "      <div>\n",
              "<style scoped>\n",
              "    .dataframe tbody tr th:only-of-type {\n",
              "        vertical-align: middle;\n",
              "    }\n",
              "\n",
              "    .dataframe tbody tr th {\n",
              "        vertical-align: top;\n",
              "    }\n",
              "\n",
              "    .dataframe thead th {\n",
              "        text-align: right;\n",
              "    }\n",
              "</style>\n",
              "<table border=\"1\" class=\"dataframe\">\n",
              "  <thead>\n",
              "    <tr style=\"text-align: right;\">\n",
              "      <th></th>\n",
              "      <th>index</th>\n",
              "      <th>Genre</th>\n",
              "      <th>Release Year</th>\n",
              "      <th>Plot</th>\n",
              "    </tr>\n",
              "  </thead>\n",
              "  <tbody>\n",
              "    <tr>\n",
              "      <th>0</th>\n",
              "      <td>6</td>\n",
              "      <td>western</td>\n",
              "      <td>1903</td>\n",
              "      <td>The film opens with two bandits breaking into ...</td>\n",
              "    </tr>\n",
              "    <tr>\n",
              "      <th>1</th>\n",
              "      <td>7</td>\n",
              "      <td>comedy</td>\n",
              "      <td>1904</td>\n",
              "      <td>The film is about a family who move to the sub...</td>\n",
              "    </tr>\n",
              "    <tr>\n",
              "      <th>2</th>\n",
              "      <td>10</td>\n",
              "      <td>short</td>\n",
              "      <td>1906</td>\n",
              "      <td>The Rarebit Fiend gorges on Welsh rarebit at a...</td>\n",
              "    </tr>\n",
              "    <tr>\n",
              "      <th>3</th>\n",
              "      <td>11</td>\n",
              "      <td>short action/crime western</td>\n",
              "      <td>1906</td>\n",
              "      <td>The film features a train traveling through th...</td>\n",
              "    </tr>\n",
              "    <tr>\n",
              "      <th>4</th>\n",
              "      <td>12</td>\n",
              "      <td>short film</td>\n",
              "      <td>1906</td>\n",
              "      <td>Irish villager Kathleen is a tenant of Captain...</td>\n",
              "    </tr>\n",
              "  </tbody>\n",
              "</table>\n",
              "</div>\n",
              "      <button class=\"colab-df-convert\" onclick=\"convertToInteractive('df-f833248e-faa2-409e-aea2-be8cb8999677')\"\n",
              "              title=\"Convert this dataframe to an interactive table.\"\n",
              "              style=\"display:none;\">\n",
              "        \n",
              "  <svg xmlns=\"http://www.w3.org/2000/svg\" height=\"24px\"viewBox=\"0 0 24 24\"\n",
              "       width=\"24px\">\n",
              "    <path d=\"M0 0h24v24H0V0z\" fill=\"none\"/>\n",
              "    <path d=\"M18.56 5.44l.94 2.06.94-2.06 2.06-.94-2.06-.94-.94-2.06-.94 2.06-2.06.94zm-11 1L8.5 8.5l.94-2.06 2.06-.94-2.06-.94L8.5 2.5l-.94 2.06-2.06.94zm10 10l.94 2.06.94-2.06 2.06-.94-2.06-.94-.94-2.06-.94 2.06-2.06.94z\"/><path d=\"M17.41 7.96l-1.37-1.37c-.4-.4-.92-.59-1.43-.59-.52 0-1.04.2-1.43.59L10.3 9.45l-7.72 7.72c-.78.78-.78 2.05 0 2.83L4 21.41c.39.39.9.59 1.41.59.51 0 1.02-.2 1.41-.59l7.78-7.78 2.81-2.81c.8-.78.8-2.07 0-2.86zM5.41 20L4 18.59l7.72-7.72 1.47 1.35L5.41 20z\"/>\n",
              "  </svg>\n",
              "      </button>\n",
              "      \n",
              "  <style>\n",
              "    .colab-df-container {\n",
              "      display:flex;\n",
              "      flex-wrap:wrap;\n",
              "      gap: 12px;\n",
              "    }\n",
              "\n",
              "    .colab-df-convert {\n",
              "      background-color: #E8F0FE;\n",
              "      border: none;\n",
              "      border-radius: 50%;\n",
              "      cursor: pointer;\n",
              "      display: none;\n",
              "      fill: #1967D2;\n",
              "      height: 32px;\n",
              "      padding: 0 0 0 0;\n",
              "      width: 32px;\n",
              "    }\n",
              "\n",
              "    .colab-df-convert:hover {\n",
              "      background-color: #E2EBFA;\n",
              "      box-shadow: 0px 1px 2px rgba(60, 64, 67, 0.3), 0px 1px 3px 1px rgba(60, 64, 67, 0.15);\n",
              "      fill: #174EA6;\n",
              "    }\n",
              "\n",
              "    [theme=dark] .colab-df-convert {\n",
              "      background-color: #3B4455;\n",
              "      fill: #D2E3FC;\n",
              "    }\n",
              "\n",
              "    [theme=dark] .colab-df-convert:hover {\n",
              "      background-color: #434B5C;\n",
              "      box-shadow: 0px 1px 3px 1px rgba(0, 0, 0, 0.15);\n",
              "      filter: drop-shadow(0px 1px 2px rgba(0, 0, 0, 0.3));\n",
              "      fill: #FFFFFF;\n",
              "    }\n",
              "  </style>\n",
              "\n",
              "      <script>\n",
              "        const buttonEl =\n",
              "          document.querySelector('#df-f833248e-faa2-409e-aea2-be8cb8999677 button.colab-df-convert');\n",
              "        buttonEl.style.display =\n",
              "          google.colab.kernel.accessAllowed ? 'block' : 'none';\n",
              "\n",
              "        async function convertToInteractive(key) {\n",
              "          const element = document.querySelector('#df-f833248e-faa2-409e-aea2-be8cb8999677');\n",
              "          const dataTable =\n",
              "            await google.colab.kernel.invokeFunction('convertToInteractive',\n",
              "                                                     [key], {});\n",
              "          if (!dataTable) return;\n",
              "\n",
              "          const docLinkHtml = 'Like what you see? Visit the ' +\n",
              "            '<a target=\"_blank\" href=https://colab.research.google.com/notebooks/data_table.ipynb>data table notebook</a>'\n",
              "            + ' to learn more about interactive tables.';\n",
              "          element.innerHTML = '';\n",
              "          dataTable['output_type'] = 'display_data';\n",
              "          await google.colab.output.renderOutput(dataTable, element);\n",
              "          const docLink = document.createElement('div');\n",
              "          docLink.innerHTML = docLinkHtml;\n",
              "          element.appendChild(docLink);\n",
              "        }\n",
              "      </script>\n",
              "    </div>\n",
              "  </div>\n",
              "  "
            ],
            "text/plain": [
              "   index  ...                                               Plot\n",
              "0      6  ...  The film opens with two bandits breaking into ...\n",
              "1      7  ...  The film is about a family who move to the sub...\n",
              "2     10  ...  The Rarebit Fiend gorges on Welsh rarebit at a...\n",
              "3     11  ...  The film features a train traveling through th...\n",
              "4     12  ...  Irish villager Kathleen is a tenant of Captain...\n",
              "\n",
              "[5 rows x 4 columns]"
            ]
          },
          "metadata": {},
          "execution_count": 8
        }
      ]
    },
    {
      "cell_type": "markdown",
      "source": [
        "We dropped 6561 observations from the dataset"
      ],
      "metadata": {
        "id": "d4BMsI-AVqAt"
      }
    },
    {
      "cell_type": "code",
      "source": [
        "len(movies) - len(movies_edit)"
      ],
      "metadata": {
        "colab": {
          "base_uri": "https://localhost:8080/"
        },
        "id": "R_ViTO4hhWky",
        "outputId": "f230632c-75c5-4319-a08f-91051e5f1601"
      },
      "execution_count": null,
      "outputs": [
        {
          "output_type": "execute_result",
          "data": {
            "text/plain": [
              "6561"
            ]
          },
          "metadata": {},
          "execution_count": 9
        }
      ]
    },
    {
      "cell_type": "markdown",
      "source": [
        "### (3.1) Aggregation of classes\n"
      ],
      "metadata": {
        "id": "x-ZaBEVYFx-i"
      }
    },
    {
      "cell_type": "markdown",
      "metadata": {
        "id": "fI2vrkrWRyOJ"
      },
      "source": [
        "'Genre' is a general classification with possibly more than one label for each observation, we want to reduce the 'Genre' column so that we have only one single label for each observation. To do so we will add a new column to the dataset called 'First_genre', as we are assuming that the first reported genre is the most relevant for each movie.\n"
      ]
    },
    {
      "cell_type": "code",
      "source": [
        "First_Genre=[]\n",
        "for i in range(len(movies_edit)):\n",
        "    split_genre=movies_edit.loc[i,'Genre'].split(\",\")\n",
        "    First_Genre.append(split_genre[0])"
      ],
      "metadata": {
        "id": "Nnm9xRAul_4U"
      },
      "execution_count": null,
      "outputs": []
    },
    {
      "cell_type": "code",
      "source": [
        "for i in range(len(First_Genre)):\n",
        "    split_genre=First_Genre[i].split(\"/\")\n",
        "    First_Genre[i] = split_genre[0]"
      ],
      "metadata": {
        "id": "j0vwU6XKrQtX"
      },
      "execution_count": null,
      "outputs": []
    },
    {
      "cell_type": "markdown",
      "source": [
        "Our aim is to create 5 macro-classes with the biggest possible number of observation each. In the dataset we have some labels for the 'Genre' column that we want to aggregate with the most popular classes that we will lately use in the models training. The cell below shows the aggregation process."
      ],
      "metadata": {
        "id": "b6ZuVeL0_f2H"
      }
    },
    {
      "cell_type": "code",
      "source": [
        "for i in range(len(First_Genre)):\n",
        "  if First_Genre[i] == \"action \":\n",
        "     First_Genre[i] = (\"action\")\n",
        "  elif First_Genre[i] == \"world war ii\" or First_Genre[i] == \"war\":\n",
        "    First_Genre[i] = (\"action\")\n",
        "  elif First_Genre[i] == \"crime\":\n",
        "    First_Genre[i] = (\"thriller\")"
      ],
      "metadata": {
        "id": "QxMppZFdtZMh"
      },
      "execution_count": null,
      "outputs": []
    },
    {
      "cell_type": "markdown",
      "source": [
        "Then we finally add this new column to the dataset."
      ],
      "metadata": {
        "id": "JSk4nc8gAfBX"
      }
    },
    {
      "cell_type": "code",
      "metadata": {
        "id": "Gr99bNrYFfsR"
      },
      "source": [
        "movies_edit[\"First_genre\"] = First_Genre"
      ],
      "execution_count": null,
      "outputs": []
    },
    {
      "cell_type": "code",
      "metadata": {
        "id": "7UZM28F-NAmf",
        "colab": {
          "base_uri": "https://localhost:8080/"
        },
        "outputId": "af6798f8-53f0-42bb-d043-0f55f1d58ed1"
      },
      "source": [
        "movies_edit['First_genre'].value_counts().head(5)"
      ],
      "execution_count": null,
      "outputs": [
        {
          "output_type": "execute_result",
          "data": {
            "text/plain": [
              "drama       6616\n",
              "comedy      5109\n",
              "action      2134\n",
              "thriller    1673\n",
              "horror      1260\n",
              "Name: First_genre, dtype: int64"
            ]
          },
          "metadata": {},
          "execution_count": 14
        }
      ]
    },
    {
      "cell_type": "code",
      "source": [
        "labels_perc = movies_edit['First_genre'].value_counts()/len(movies_edit['First_genre'])"
      ],
      "metadata": {
        "id": "sZGlG0t-GYwc"
      },
      "execution_count": null,
      "outputs": []
    },
    {
      "cell_type": "code",
      "source": [
        "labels_perc.head(5)"
      ],
      "metadata": {
        "colab": {
          "base_uri": "https://localhost:8080/"
        },
        "id": "mAkO-d_D3-xI",
        "outputId": "3dcd4ea0-d00d-4dd8-bea2-399b93da1344"
      },
      "execution_count": null,
      "outputs": [
        {
          "output_type": "execute_result",
          "data": {
            "text/plain": [
              "drama       0.233575\n",
              "comedy      0.180371\n",
              "action      0.075340\n",
              "thriller    0.059064\n",
              "horror      0.044484\n",
              "Name: First_genre, dtype: float64"
            ]
          },
          "metadata": {},
          "execution_count": 16
        }
      ]
    },
    {
      "cell_type": "markdown",
      "source": [
        "We have almost **60%** of observation within the first 5 classes"
      ],
      "metadata": {
        "id": "flNt_u-iJRqm"
      }
    },
    {
      "cell_type": "code",
      "source": [
        "labels_perc[0:5].sum()"
      ],
      "metadata": {
        "colab": {
          "base_uri": "https://localhost:8080/"
        },
        "id": "XOm3zmVeJGzE",
        "outputId": "62d0c24e-01ad-46a3-d5dd-2c66ede00474"
      },
      "execution_count": null,
      "outputs": [
        {
          "output_type": "execute_result",
          "data": {
            "text/plain": [
              "0.5928331862312445"
            ]
          },
          "metadata": {},
          "execution_count": 17
        }
      ]
    },
    {
      "cell_type": "markdown",
      "source": [
        "Displaying frequency for each **relevant** class."
      ],
      "metadata": {
        "id": "Hl2ijAYsGsTZ"
      }
    },
    {
      "cell_type": "code",
      "metadata": {
        "colab": {
          "base_uri": "https://localhost:8080/",
          "height": 325
        },
        "id": "iYkRpYEVNApJ",
        "outputId": "297f8b62-da21-45e4-9cd1-4f938a07109a"
      },
      "source": [
        "labels_perc[:5].plot.bar()\n",
        "plt.xlabel('Genre')\n",
        "plt.ylabel('Relative Frequency')\n",
        "plt.title('Bar chart for classes')\n",
        "plt.show()"
      ],
      "execution_count": null,
      "outputs": [
        {
          "output_type": "display_data",
          "data": {
            "image/png": "[encoded data removed]",
            "text/plain": [
              "<Figure size 432x288 with 1 Axes>"
            ]
          },
          "metadata": {
            "needs_background": "light"
          }
        }
      ]
    },
    {
      "cell_type": "markdown",
      "source": [
        "Now we create a new dataset composed only by the 5 classes mentioned above"
      ],
      "metadata": {
        "id": "tK0tJWrxAs-N"
      }
    },
    {
      "cell_type": "code",
      "source": [
        "movies_edit2 = movies_edit.groupby(\"First_genre\").filter( lambda x: len(x)>=1200)"
      ],
      "metadata": {
        "id": "0C2fiEjV6Z6q"
      },
      "execution_count": null,
      "outputs": []
    },
    {
      "cell_type": "code",
      "source": [
        "movies_edit2['First_genre'].value_counts()/len(movies_edit2)"
      ],
      "metadata": {
        "colab": {
          "base_uri": "https://localhost:8080/"
        },
        "id": "zN22GB5M6lMi",
        "outputId": "f96cfe26-6ec4-4f36-88be-11cd3645975e"
      },
      "execution_count": null,
      "outputs": [
        {
          "output_type": "execute_result",
          "data": {
            "text/plain": [
              "drama       0.393997\n",
              "comedy      0.304252\n",
              "action      0.127084\n",
              "thriller    0.099631\n",
              "horror      0.075036\n",
              "Name: First_genre, dtype: float64"
            ]
          },
          "metadata": {},
          "execution_count": 20
        }
      ]
    },
    {
      "cell_type": "markdown",
      "source": [
        "It is clear that this dataset is **not balanced**. We will asses this balancing problem later in the notebook."
      ],
      "metadata": {
        "id": "ALiu_rHmGvHv"
      }
    },
    {
      "cell_type": "markdown",
      "source": [
        "## (4) Lemmatization \n",
        "We define a function to lemmatize words. "
      ],
      "metadata": {
        "id": "cIXFgBKEJ1BX"
      }
    },
    {
      "cell_type": "code",
      "source": [
        "movies_edit2['clean_plot']=movies_edit2['Plot'].str.lower()"
      ],
      "metadata": {
        "id": "YXp-IbXtWied"
      },
      "execution_count": null,
      "outputs": []
    },
    {
      "cell_type": "code",
      "source": [
        "def getLemmText(text):\n",
        " tokens=word_tokenize(text)\n",
        " lemmatizer = WordNetLemmatizer()\n",
        " tokens=[lemmatizer.lemmatize(word) for word in tokens]\n",
        " return ' '.join(tokens)"
      ],
      "metadata": {
        "id": "VgkDmfJAVeiW"
      },
      "execution_count": null,
      "outputs": []
    },
    {
      "cell_type": "code",
      "source": [
        "movies_edit2['clean_plot'] = list(map(getLemmText,movies_edit2['clean_plot']))"
      ],
      "metadata": {
        "id": "lpMgyVr2WgYa"
      },
      "execution_count": null,
      "outputs": []
    },
    {
      "cell_type": "markdown",
      "source": [
        "**Stop words**\n",
        "\n",
        "The package nltk provide us a list of the most common words in english. We decide to add in this list some words that we've noticed are recurrent in all the plot and so are not useful for classification: \n",
        "* film\n",
        "* movie\n",
        "* go\n",
        "* one\n",
        "* two\n",
        "* take\n",
        "* get\n",
        "* find\n",
        "* back\n",
        "* tell\n",
        "* ha\n",
        "* wa\n",
        "* and other unuseful words\n",
        "\n",
        "Our aim is remove all the stop words. "
      ],
      "metadata": {
        "id": "FfR7fbA0pHn1"
      }
    },
    {
      "cell_type": "code",
      "source": [
        "movies_edit2 = movies_edit2.reset_index(drop=True)\n",
        "REPLACE_BY_SPACE_RE = re.compile('[/(){}\\[\\]\\|@,;.]')\n",
        "BAD_SYMBOLS_RE = re.compile('[^0-9a-z #+_]')\n",
        "STOPWORDS = stopwords.words('english')\n",
        "STOPWORDS.append('film')\n",
        "STOPWORDS.append('movie')\n",
        "STOPWORDS.append('one')\n",
        "STOPWORDS.append('two')\n",
        "STOPWORDS.append('get')\n",
        "STOPWORDS.append('back')\n",
        "STOPWORDS.append('tell')\n",
        "STOPWORDS.append('new')\n",
        "STOPWORDS.append('also')\n",
        "STOPWORDS.append('time')\n",
        "STOPWORDS.append('hi')\n",
        "STOPWORDS.append('ha')\n",
        "STOPWORDS.append('wa')\n",
        "STOPWORD = set(STOPWORDS)"
      ],
      "metadata": {
        "id": "KzhAeaCiMeAF"
      },
      "execution_count": null,
      "outputs": []
    },
    {
      "cell_type": "code",
      "source": [
        "def clean_text(text):\n",
        "    \"\"\"\n",
        "        text: a string\n",
        "        \n",
        "        return: modified initial string\n",
        "    \"\"\"\n",
        "    text = text.lower() # lowercase text\n",
        "    text = REPLACE_BY_SPACE_RE.sub(' ', text) # replace REPLACE_BY_SPACE_RE symbols by space in text. substitute the matched string in REPLACE_BY_SPACE_RE with space.\n",
        "    text = BAD_SYMBOLS_RE.sub('', text) # remove symbols which are in BAD_SYMBOLS_RE from text. substitute the matched string in BAD_SYMBOLS_RE with nothing. \n",
        "    text = ' '.join(word for word in text.split() if word not in STOPWORDS) # remove stopwors from text\n",
        "    return text"
      ],
      "metadata": {
        "id": "6vihmnoi8NF8"
      },
      "execution_count": null,
      "outputs": []
    },
    {
      "cell_type": "code",
      "source": [
        "movies_edit2['clean_plot'] = movies_edit2['clean_plot'].apply(clean_text)\n",
        "movies_edit2['clean_plot'] = movies_edit2['clean_plot'].str.replace('\\d+', '')"
      ],
      "metadata": {
        "id": "xvedw6XUONoe"
      },
      "execution_count": null,
      "outputs": []
    },
    {
      "cell_type": "markdown",
      "source": [
        "We want to understand what are the most common stop words, we use a bar chart in order to visualize it"
      ],
      "metadata": {
        "id": "vs8pG00GK_Lg"
      }
    },
    {
      "cell_type": "code",
      "source": [
        "#Counting and displaying the occurrences of a list of stopwords\n",
        "nlplist = []\n",
        "for i in range(len(movies_edit2['Plot'])):\n",
        "    nlplist.append(str(movies_edit2['Plot'][i]))\n",
        "listToStr = ' '.join([str(elem) for elem in nlplist])\n",
        "\n",
        "Dict_stop = {}\n",
        "for word in STOPWORD:\n",
        "     Dict_stop[word] = listToStr.count(word)\n",
        "\n",
        "top30 =sorted(Dict_stop.items(), key=lambda x:x[1],reverse=True)[:30]\n"
      ],
      "metadata": {
        "id": "o3j-vDohi8sN"
      },
      "execution_count": null,
      "outputs": []
    },
    {
      "cell_type": "code",
      "source": [
        "plt.figure(figsize=(20,10))\n",
        "x,y=zip(*top30) # x is the tuple containing the 30 most common words, y is a tuple containing counts\n",
        "plt.ylabel('Count')\n",
        "plt.xlabel('Words')\n",
        "plt.title('30 most common Stopwords')\n",
        "plt.bar(x,y)\n",
        "plt.show()"
      ],
      "metadata": {
        "colab": {
          "base_uri": "https://localhost:8080/",
          "height": 590
        },
        "id": "Guq48Qcl8Qw0",
        "outputId": "984f16c3-67c5-40a0-f45d-33ae17f824ff"
      },
      "execution_count": null,
      "outputs": [
        {
          "output_type": "display_data",
          "data": {
            "image/png": "[encoded data removed]",
            "text/plain": [
              "<Figure size 1440x720 with 1 Axes>"
            ]
          },
          "metadata": {
            "needs_background": "light"
          }
        }
      ]
    },
    {
      "cell_type": "markdown",
      "source": [
        "Counting the stopwords for each Genre\n",
        " \n",
        "\n"
      ],
      "metadata": {
        "id": "OvaCQi_xDrNb"
      }
    },
    {
      "cell_type": "code",
      "metadata": {
        "id": "Zz3cIyX3NA2w"
      },
      "source": [
        "def count_stopwords(x):\n",
        "    n_stopwords = 0\n",
        "\n",
        "    for word in str(x).split(' '):\n",
        "        if word in STOPWORDS:\n",
        "            n_stopwords += 1\n",
        "\n",
        "    return n_stopwords"
      ],
      "execution_count": null,
      "outputs": []
    },
    {
      "cell_type": "markdown",
      "source": [
        "We show how many stopwords in average per Genre are inside the 'clean_plot'."
      ],
      "metadata": {
        "id": "2MmYMFhIJJMQ"
      }
    },
    {
      "cell_type": "code",
      "metadata": {
        "id": "tin5_ysnNA5Z"
      },
      "source": [
        "movies_edit2[\"stopwords\"] = movies_edit2[\"Plot\"].apply(count_stopwords)"
      ],
      "execution_count": null,
      "outputs": []
    },
    {
      "cell_type": "code",
      "metadata": {
        "id": "AzY7P9ekNA-g",
        "colab": {
          "base_uri": "https://localhost:8080/",
          "height": 326
        },
        "outputId": "8459c609-681f-4bf0-e0ec-a16cfbb60d75"
      },
      "source": [
        "stopwords_label = movies_edit2.groupby(by='First_genre')['stopwords'].agg('mean')\n",
        "stopwords_label.plot.bar(title = \"mean stopwords per genre\")\n",
        "plt.show()"
      ],
      "execution_count": null,
      "outputs": [
        {
          "output_type": "display_data",
          "data": {
            "image/png": "[encoded data removed]",
            "text/plain": [
              "<Figure size 432x288 with 1 Axes>"
            ]
          },
          "metadata": {
            "needs_background": "light"
          }
        }
      ]
    },
    {
      "cell_type": "markdown",
      "source": [
        "Now we define the function to remove all the stopwords."
      ],
      "metadata": {
        "id": "G53-8lLuEWBx"
      }
    },
    {
      "cell_type": "code",
      "metadata": {
        "id": "nSwEdgwzNBD3",
        "colab": {
          "base_uri": "https://localhost:8080/",
          "height": 468
        },
        "outputId": "bcc0a2b6-9336-4253-dbdf-e0c30505bd01"
      },
      "source": [
        "movies_edit2.drop('index', axis = 1)"
      ],
      "execution_count": null,
      "outputs": [
        {
          "output_type": "execute_result",
          "data": {
            "text/html": [
              "\n",
              "  <div id=\"df-9c8fc57e-689b-4102-bf2d-79034e3d6722\">\n",
              "    <div class=\"colab-df-container\">\n",
              "      <div>\n",
              "<style scoped>\n",
              "    .dataframe tbody tr th:only-of-type {\n",
              "        vertical-align: middle;\n",
              "    }\n",
              "\n",
              "    .dataframe tbody tr th {\n",
              "        vertical-align: top;\n",
              "    }\n",
              "\n",
              "    .dataframe thead th {\n",
              "        text-align: right;\n",
              "    }\n",
              "</style>\n",
              "<table border=\"1\" class=\"dataframe\">\n",
              "  <thead>\n",
              "    <tr style=\"text-align: right;\">\n",
              "      <th></th>\n",
              "      <th>Genre</th>\n",
              "      <th>Release Year</th>\n",
              "      <th>Plot</th>\n",
              "      <th>First_genre</th>\n",
              "      <th>clean_plot</th>\n",
              "      <th>stopwords</th>\n",
              "    </tr>\n",
              "  </thead>\n",
              "  <tbody>\n",
              "    <tr>\n",
              "      <th>0</th>\n",
              "      <td>comedy</td>\n",
              "      <td>1904</td>\n",
              "      <td>The film is about a family who move to the sub...</td>\n",
              "      <td>comedy</td>\n",
              "      <td>family move suburb hoping quiet life thing sta...</td>\n",
              "      <td>15</td>\n",
              "    </tr>\n",
              "    <tr>\n",
              "      <th>1</th>\n",
              "      <td>comedy</td>\n",
              "      <td>1907</td>\n",
              "      <td>Before heading out to a baseball game at a nea...</td>\n",
              "      <td>comedy</td>\n",
              "      <td>heading baseball game nearby ballpark sport fa...</td>\n",
              "      <td>45</td>\n",
              "    </tr>\n",
              "    <tr>\n",
              "      <th>2</th>\n",
              "      <td>comedy</td>\n",
              "      <td>1907</td>\n",
              "      <td>The plot is that of a black woman going to the...</td>\n",
              "      <td>comedy</td>\n",
              "      <td>plot black woman going dentist toothache given...</td>\n",
              "      <td>21</td>\n",
              "    </tr>\n",
              "    <tr>\n",
              "      <th>3</th>\n",
              "      <td>drama</td>\n",
              "      <td>1908</td>\n",
              "      <td>On a beautiful summer day a father and mother ...</td>\n",
              "      <td>drama</td>\n",
              "      <td>beautiful summer day father mother take daught...</td>\n",
              "      <td>59</td>\n",
              "    </tr>\n",
              "    <tr>\n",
              "      <th>4</th>\n",
              "      <td>drama</td>\n",
              "      <td>1908</td>\n",
              "      <td>A thug accosts a girl as she leaves her workpl...</td>\n",
              "      <td>drama</td>\n",
              "      <td>thug accosts girl leaf workplace man rescue th...</td>\n",
              "      <td>46</td>\n",
              "    </tr>\n",
              "    <tr>\n",
              "      <th>...</th>\n",
              "      <td>...</td>\n",
              "      <td>...</td>\n",
              "      <td>...</td>\n",
              "      <td>...</td>\n",
              "      <td>...</td>\n",
              "      <td>...</td>\n",
              "    </tr>\n",
              "    <tr>\n",
              "      <th>16787</th>\n",
              "      <td>drama</td>\n",
              "      <td>2011</td>\n",
              "      <td>Hasan is a twelve-year-old boy living with his...</td>\n",
              "      <td>drama</td>\n",
              "      <td>hasan twelveyearold boy living younger sibling...</td>\n",
              "      <td>53</td>\n",
              "    </tr>\n",
              "    <tr>\n",
              "      <th>16788</th>\n",
              "      <td>drama</td>\n",
              "      <td>2011</td>\n",
              "      <td>Through the night, three cars carry a small gr...</td>\n",
              "      <td>drama</td>\n",
              "      <td>night three car carry small group men police o...</td>\n",
              "      <td>412</td>\n",
              "    </tr>\n",
              "    <tr>\n",
              "      <th>16789</th>\n",
              "      <td>drama</td>\n",
              "      <td>2013</td>\n",
              "      <td>The film opens with a Senegalese boy named Kha...</td>\n",
              "      <td>drama</td>\n",
              "      <td>open senegalese boy named khadim told little s...</td>\n",
              "      <td>482</td>\n",
              "    </tr>\n",
              "    <tr>\n",
              "      <th>16790</th>\n",
              "      <td>comedy</td>\n",
              "      <td>2017</td>\n",
              "      <td>Two musicians, Salih and Gürkan, described the...</td>\n",
              "      <td>comedy</td>\n",
              "      <td>musician salih grkan described adventure cousin</td>\n",
              "      <td>4</td>\n",
              "    </tr>\n",
              "    <tr>\n",
              "      <th>16791</th>\n",
              "      <td>comedy</td>\n",
              "      <td>2017</td>\n",
              "      <td>Zafer, a sailor living with his mother Döndü i...</td>\n",
              "      <td>comedy</td>\n",
              "      <td>zafer sailor living mother dnd coastal village...</td>\n",
              "      <td>27</td>\n",
              "    </tr>\n",
              "  </tbody>\n",
              "</table>\n",
              "<p>16792 rows × 6 columns</p>\n",
              "</div>\n",
              "      <button class=\"colab-df-convert\" onclick=\"convertToInteractive('df-9c8fc57e-689b-4102-bf2d-79034e3d6722')\"\n",
              "              title=\"Convert this dataframe to an interactive table.\"\n",
              "              style=\"display:none;\">\n",
              "        \n",
              "  <svg xmlns=\"http://www.w3.org/2000/svg\" height=\"24px\"viewBox=\"0 0 24 24\"\n",
              "       width=\"24px\">\n",
              "    <path d=\"M0 0h24v24H0V0z\" fill=\"none\"/>\n",
              "    <path d=\"M18.56 5.44l.94 2.06.94-2.06 2.06-.94-2.06-.94-.94-2.06-.94 2.06-2.06.94zm-11 1L8.5 8.5l.94-2.06 2.06-.94-2.06-.94L8.5 2.5l-.94 2.06-2.06.94zm10 10l.94 2.06.94-2.06 2.06-.94-2.06-.94-.94-2.06-.94 2.06-2.06.94z\"/><path d=\"M17.41 7.96l-1.37-1.37c-.4-.4-.92-.59-1.43-.59-.52 0-1.04.2-1.43.59L10.3 9.45l-7.72 7.72c-.78.78-.78 2.05 0 2.83L4 21.41c.39.39.9.59 1.41.59.51 0 1.02-.2 1.41-.59l7.78-7.78 2.81-2.81c.8-.78.8-2.07 0-2.86zM5.41 20L4 18.59l7.72-7.72 1.47 1.35L5.41 20z\"/>\n",
              "  </svg>\n",
              "      </button>\n",
              "      \n",
              "  <style>\n",
              "    .colab-df-container {\n",
              "      display:flex;\n",
              "      flex-wrap:wrap;\n",
              "      gap: 12px;\n",
              "    }\n",
              "\n",
              "    .colab-df-convert {\n",
              "      background-color: #E8F0FE;\n",
              "      border: none;\n",
              "      border-radius: 50%;\n",
              "      cursor: pointer;\n",
              "      display: none;\n",
              "      fill: #1967D2;\n",
              "      height: 32px;\n",
              "      padding: 0 0 0 0;\n",
              "      width: 32px;\n",
              "    }\n",
              "\n",
              "    .colab-df-convert:hover {\n",
              "      background-color: #E2EBFA;\n",
              "      box-shadow: 0px 1px 2px rgba(60, 64, 67, 0.3), 0px 1px 3px 1px rgba(60, 64, 67, 0.15);\n",
              "      fill: #174EA6;\n",
              "    }\n",
              "\n",
              "    [theme=dark] .colab-df-convert {\n",
              "      background-color: #3B4455;\n",
              "      fill: #D2E3FC;\n",
              "    }\n",
              "\n",
              "    [theme=dark] .colab-df-convert:hover {\n",
              "      background-color: #434B5C;\n",
              "      box-shadow: 0px 1px 3px 1px rgba(0, 0, 0, 0.15);\n",
              "      filter: drop-shadow(0px 1px 2px rgba(0, 0, 0, 0.3));\n",
              "      fill: #FFFFFF;\n",
              "    }\n",
              "  </style>\n",
              "\n",
              "      <script>\n",
              "        const buttonEl =\n",
              "          document.querySelector('#df-9c8fc57e-689b-4102-bf2d-79034e3d6722 button.colab-df-convert');\n",
              "        buttonEl.style.display =\n",
              "          google.colab.kernel.accessAllowed ? 'block' : 'none';\n",
              "\n",
              "        async function convertToInteractive(key) {\n",
              "          const element = document.querySelector('#df-9c8fc57e-689b-4102-bf2d-79034e3d6722');\n",
              "          const dataTable =\n",
              "            await google.colab.kernel.invokeFunction('convertToInteractive',\n",
              "                                                     [key], {});\n",
              "          if (!dataTable) return;\n",
              "\n",
              "          const docLinkHtml = 'Like what you see? Visit the ' +\n",
              "            '<a target=\"_blank\" href=https://colab.research.google.com/notebooks/data_table.ipynb>data table notebook</a>'\n",
              "            + ' to learn more about interactive tables.';\n",
              "          element.innerHTML = '';\n",
              "          dataTable['output_type'] = 'display_data';\n",
              "          await google.colab.output.renderOutput(dataTable, element);\n",
              "          const docLink = document.createElement('div');\n",
              "          docLink.innerHTML = docLinkHtml;\n",
              "          element.appendChild(docLink);\n",
              "        }\n",
              "      </script>\n",
              "    </div>\n",
              "  </div>\n",
              "  "
            ],
            "text/plain": [
              "        Genre  ...  stopwords\n",
              "0      comedy  ...         15\n",
              "1      comedy  ...         45\n",
              "2      comedy  ...         21\n",
              "3       drama  ...         59\n",
              "4       drama  ...         46\n",
              "...       ...  ...        ...\n",
              "16787   drama  ...         53\n",
              "16788   drama  ...        412\n",
              "16789   drama  ...        482\n",
              "16790  comedy  ...          4\n",
              "16791  comedy  ...         27\n",
              "\n",
              "[16792 rows x 6 columns]"
            ]
          },
          "metadata": {},
          "execution_count": 32
        }
      ]
    },
    {
      "cell_type": "markdown",
      "source": [
        "In the two line below we can see the differences between the starting plot and the final clean_plot."
      ],
      "metadata": {
        "id": "m2m_R62Qs1zm"
      }
    },
    {
      "cell_type": "code",
      "source": [
        "print(movies_edit2.loc[1][\"Plot\"])"
      ],
      "metadata": {
        "colab": {
          "base_uri": "https://localhost:8080/"
        },
        "id": "2012PCa6iP4s",
        "outputId": "48149247-e7e2-482c-d487-75a794b3a208"
      },
      "execution_count": null,
      "outputs": [
        {
          "output_type": "stream",
          "name": "stdout",
          "text": [
            "Before heading out to a baseball game at a nearby ballpark, sports fan Mr. Brown drinks several highball cocktails. He arrives at the ballpark to watch the game, but has become so inebriated that the game appears to him in reverse, with the players running the bases backwards and the baseball flying back into the pitcher's hand. After the game is over, Mr. Brown is escorted home by one of his friends. When they arrive at Brown's house, they encounter his wife who becomes furious with the friend and proceeds to physically assault him, believing he is responsible for her husband's severe intoxication.[1]\n"
          ]
        }
      ]
    },
    {
      "cell_type": "code",
      "source": [
        "print(movies_edit2.loc[1][\"clean_plot\"])"
      ],
      "metadata": {
        "colab": {
          "base_uri": "https://localhost:8080/"
        },
        "id": "ddGxLPTgjx1X",
        "outputId": "ea87420e-608d-4909-ca89-956932e5dad3"
      },
      "execution_count": null,
      "outputs": [
        {
          "output_type": "stream",
          "name": "stdout",
          "text": [
            "heading baseball game nearby ballpark sport fan mr brown drink several highball cocktail arrives ballpark watch game become inebriated game appears reverse player running base backwards baseball flying pitcher hand game mr brown escorted home friend arrive brown house encounter wife becomes furious friend proceeds physically assault believing responsible husband severe intoxication \n"
          ]
        }
      ]
    },
    {
      "cell_type": "code",
      "source": [
        "list_plot = movies_edit2[\"clean_plot\"].to_list()\n",
        "len_plot = [len(str(plot).split(\" \")) for plot in list_plot]"
      ],
      "metadata": {
        "id": "9lLc24Dm9fir"
      },
      "execution_count": null,
      "outputs": []
    },
    {
      "cell_type": "code",
      "source": [
        "movies_edit2['clean_plot'] = movies_edit2['clean_plot'].apply(lambda x: str(x))"
      ],
      "metadata": {
        "id": "jiRmlmrm9fbj"
      },
      "execution_count": null,
      "outputs": []
    },
    {
      "cell_type": "markdown",
      "source": [
        "As we said before we have to balance the dataset. We have decided to undersample the dataset. Doing so we have randomly taken 1260 observations from each macro-class."
      ],
      "metadata": {
        "id": "aWLwOSPfICzo"
      }
    },
    {
      "cell_type": "code",
      "source": [
        "movies_edit3=pd.concat([movies_edit2.loc[movies_edit2[\"First_genre\"]==\"comedy\"].sample(n=1260,replace=False,random_state=1200),\n",
        "                        movies_edit2.loc[movies_edit2[\"First_genre\"]==\"drama\"].sample(n=1260,replace=False,random_state=1200),\n",
        "                        movies_edit2.loc[movies_edit2[\"First_genre\"]==\"horror\"],\n",
        "                        movies_edit2.loc[movies_edit2[\"First_genre\"]==\"thriller\"].sample(n=1260,replace=False,random_state=1200),\n",
        "                        movies_edit2.loc[movies_edit2[\"First_genre\"]==\"action\"].sample(n=1260,replace=False,random_state=1200)])"
      ],
      "metadata": {
        "id": "coY6u5IVVpXb"
      },
      "execution_count": null,
      "outputs": []
    },
    {
      "cell_type": "code",
      "source": [
        "movies_edit3['First_genre'].value_counts()/len(movies_edit3)"
      ],
      "metadata": {
        "colab": {
          "base_uri": "https://localhost:8080/"
        },
        "id": "HW4I190ILeNn",
        "outputId": "02e6dd89-b60d-4d1d-ebf8-8fba9fbec958"
      },
      "execution_count": null,
      "outputs": [
        {
          "output_type": "execute_result",
          "data": {
            "text/plain": [
              "drama       0.2\n",
              "horror      0.2\n",
              "comedy      0.2\n",
              "thriller    0.2\n",
              "action      0.2\n",
              "Name: First_genre, dtype: float64"
            ]
          },
          "metadata": {},
          "execution_count": 38
        }
      ]
    },
    {
      "cell_type": "markdown",
      "source": [
        "## (5) Graphical overview\n"
      ],
      "metadata": {
        "id": "SC-uj5KBK1G6"
      }
    },
    {
      "cell_type": "markdown",
      "source": [
        "#### (5.1) **Number of movies per 5 years span**"
      ],
      "metadata": {
        "id": "93gh9KXkLLkj"
      }
    },
    {
      "cell_type": "code",
      "source": [
        "plt.figure(figsize=(10,5));\n",
        "\n",
        "movies_edit3[\"Release Year\"].plot.hist(stacked=True, bins=20)\n",
        "plt.xlabel('YEARS')\n",
        "plt.ylabel('# MOVIES')\n",
        "plt.title('NUMBER OF MOVIES PER 5 YEARS SPAN')\n",
        "plt.show()"
      ],
      "metadata": {
        "colab": {
          "base_uri": "https://localhost:8080/",
          "height": 350
        },
        "id": "iqFpSaRK5WXh",
        "outputId": "54f6e27f-3734-40e3-de2b-23cfae39c193"
      },
      "execution_count": null,
      "outputs": [
        {
          "output_type": "display_data",
          "data": {
            "image/png": "[encoded data removed]",
            "text/plain": [
              "<Figure size 720x360 with 1 Axes>"
            ]
          },
          "metadata": {
            "needs_background": "light"
          }
        }
      ]
    },
    {
      "cell_type": "markdown",
      "source": [
        "#### (5.2) **Number of words in each plot**\n",
        "The graph is in range (0,2000) to make it more readable but there are some plots with more than 4000 words."
      ],
      "metadata": {
        "id": "Mnnf8XuWaIPr"
      }
    },
    {
      "cell_type": "code",
      "source": [
        "list_plot = movies_edit3[\"Plot\"].to_list()\n",
        "len_plot = [len(str(plot).split(\" \")) for plot in list_plot]\n",
        "movies_edit3[\"len_plot\"] = len_plot"
      ],
      "metadata": {
        "id": "fiEOzSqnbE1l"
      },
      "execution_count": null,
      "outputs": []
    },
    {
      "cell_type": "code",
      "source": [
        "plt.figure(figsize=(10,5));\n",
        "movies_edit3[\"len_plot\"].plot.hist(stacked=True, bins=20, range=(0,2000))\n",
        "plt.xlabel('NUMBER OF WORDS')\n",
        "plt.ylabel('NUMBER OF PLOT')\n",
        "plt.title('NUMBER OF WORDS IN EACH PLOT')\n",
        "plt.show()"
      ],
      "metadata": {
        "colab": {
          "base_uri": "https://localhost:8080/",
          "height": 350
        },
        "id": "RPppt7fLaSWI",
        "outputId": "c3da19bb-442f-497d-a928-81c959ef406a"
      },
      "execution_count": null,
      "outputs": [
        {
          "output_type": "display_data",
          "data": {
            "image/png": "[encoded data removed]",
            "text/plain": [
              "<Figure size 720x360 with 1 Axes>"
            ]
          },
          "metadata": {
            "needs_background": "light"
          }
        }
      ]
    },
    {
      "cell_type": "markdown",
      "source": [
        "#### (5.3) **Number of words per category** "
      ],
      "metadata": {
        "id": "bAghTTvwLTh8"
      }
    },
    {
      "cell_type": "code",
      "source": [
        "plt.figure(figsize=(10,5));\n",
        "len_plot_label = movies_edit3.groupby(by='First_genre')['len_plot'].agg('mean')\n",
        "len_plot_label.plot.bar(title = \"WORDS PER LABEL (MEAN)\", ylabel = '# OF WORDS', xlabel = 'GENRE')\n",
        "plt.show()"
      ],
      "metadata": {
        "colab": {
          "base_uri": "https://localhost:8080/",
          "height": 379
        },
        "id": "lTXmyj1jLEM4",
        "outputId": "586241cb-fc37-43b5-9a72-ec5d54a620d9"
      },
      "execution_count": null,
      "outputs": [
        {
          "output_type": "display_data",
          "data": {
            "image/png": "[encoded data removed]",
            "text/plain": [
              "<Figure size 720x360 with 1 Axes>"
            ]
          },
          "metadata": {
            "needs_background": "light"
          }
        }
      ]
    },
    {
      "cell_type": "markdown",
      "source": [
        "#### (5.4) **Number of stopwords per Genre**"
      ],
      "metadata": {
        "id": "9_VrlX0FL5Ka"
      }
    },
    {
      "cell_type": "code",
      "source": [
        "plt.figure(figsize=(10,5));\n",
        "stopwords_label = movies_edit3.groupby(by='First_genre')['stopwords'].agg('mean')\n",
        "stopwords_label.plot.bar(title = 'STOPWORDS PER GENRE')\n",
        "plt.xlabel('FIRST GENRE')\n",
        "plt.show()"
      ],
      "metadata": {
        "colab": {
          "base_uri": "https://localhost:8080/",
          "height": 379
        },
        "id": "4VAvVAMAL5eW",
        "outputId": "2960cf9b-b2e6-4b18-feb6-2d4270950570"
      },
      "execution_count": null,
      "outputs": [
        {
          "output_type": "display_data",
          "data": {
            "image/png": "[encoded data removed]",
            "text/plain": [
              "<Figure size 720x360 with 1 Axes>"
            ]
          },
          "metadata": {
            "needs_background": "light"
          }
        }
      ]
    },
    {
      "cell_type": "markdown",
      "source": [
        "#### (5.5) **Percentage of stopwords per Genre**"
      ],
      "metadata": {
        "id": "gMYM3NRSMHMM"
      }
    },
    {
      "cell_type": "code",
      "source": [
        "movies_edit3[\"perc_stopwords\"] = movies_edit3[\"stopwords\"]/movies_edit3[\"len_plot\"]\n",
        "\n",
        "plt.figure(figsize=(10,5));\n",
        "stopwords_perc = movies_edit3.groupby(by='First_genre')['perc_stopwords'].agg('mean')\n",
        "stopwords_perc.plot.bar(title = \"% OF STOPWORDS PER LABEL\")\n",
        "plt.xlabel('FIRST GENRE')\n",
        "plt.show()"
      ],
      "metadata": {
        "colab": {
          "base_uri": "https://localhost:8080/",
          "height": 379
        },
        "id": "AFw3aVsIMHjN",
        "outputId": "26bae457-f3d9-4b0f-8aa4-96f4fbd6dab8"
      },
      "execution_count": null,
      "outputs": [
        {
          "output_type": "display_data",
          "data": {
            "image/png": "[encoded data removed]",
            "text/plain": [
              "<Figure size 720x360 with 1 Axes>"
            ]
          },
          "metadata": {
            "needs_background": "light"
          }
        }
      ]
    },
    {
      "cell_type": "markdown",
      "source": [
        "#### (5.6) **Most used word**"
      ],
      "metadata": {
        "id": "Mz5V_5KQNZi1"
      }
    },
    {
      "cell_type": "code",
      "source": [
        "movies_edit3 = movies_edit3.reset_index(drop=True)"
      ],
      "metadata": {
        "id": "MzmBGTB1p_qp"
      },
      "execution_count": null,
      "outputs": []
    },
    {
      "cell_type": "code",
      "source": [
        "#which words are the most frequent in the dataset without stopwords\n",
        "movies_stop = movies_edit3[['First_genre','clean_plot']].copy() #create a copy of df and removing stopwords\n",
        "STOPWORDS = set(nlp.Defaults.stop_words)\n",
        "\n",
        "movies_stop['PLOT'] = movies_stop['clean_plot'].apply(lambda x:str(x).split())\n",
        "\n",
        "freq_words = Counter([word for text in movies_stop['PLOT'] for word in text if len(word)>2])\n",
        "freq_word_df = pd.DataFrame(freq_words.most_common(150), columns=['Word','Count'])\n",
        "plt.figure(figsize=(20,10));\n",
        "sns.barplot(y='Word',x='Count',data=freq_word_df[:25], color= 'tab:blue').set_title(\"25 MOST FREQUENT WORDS IN TEXT\")\n",
        "plt.xlabel('COUNT')\n",
        "plt.ylabel('WORD')\n",
        "\n",
        "plt.show()"
      ],
      "metadata": {
        "colab": {
          "base_uri": "https://localhost:8080/",
          "height": 621
        },
        "id": "5PjptX1ppjDX",
        "outputId": "34f911cf-61fe-47ff-df08-87b8536ee93a"
      },
      "execution_count": null,
      "outputs": [
        {
          "output_type": "display_data",
          "data": {
            "image/png": "[encoded data removed]",
            "text/plain": [
              "<Figure size 1440x720 with 1 Axes>"
            ]
          },
          "metadata": {
            "needs_background": "light"
          }
        }
      ]
    },
    {
      "cell_type": "code",
      "source": [
        "most_frequent = movies_edit3.groupby(\"First_genre\")[\"clean_plot\"].apply(lambda x: Counter(\" \".join(x).split()).most_common(20))"
      ],
      "metadata": {
        "id": "DeTHPCs5OajV"
      },
      "execution_count": null,
      "outputs": []
    },
    {
      "cell_type": "code",
      "source": [
        "genre = sorted(movies_edit3['First_genre'].unique())\n",
        "for i in range(len(genre)):\n",
        "  q=[]\n",
        "  print(genre[i],\":\")\n",
        "  for j in range(20):\n",
        "    q.append(most_frequent[i][j][0])\n",
        "  print(q)"
      ],
      "metadata": {
        "colab": {
          "base_uri": "https://localhost:8080/"
        },
        "id": "RAixn5TtiDvy",
        "outputId": "3577599f-fdff-4530-d96b-73e56cfbb129"
      },
      "execution_count": null,
      "outputs": [
        {
          "output_type": "stream",
          "name": "stdout",
          "text": [
            "action :\n",
            "['kill', 'take', 'police', 'find', 'killed', 'go', 'escape', 'men', 'father', 'officer', 'help', 'life', 'friend', 'later', 'love', 'come', 'however', 'fight', 'brother', 'meet']\n",
            "comedy :\n",
            "['find', 'go', 'take', 'friend', 'love', 'father', 'home', 'make', 'life', 'day', 'try', 'money', 'woman', 'man', 'end', 'come', 'house', 'meet', 'see', 'return']\n",
            "drama :\n",
            "['go', 'find', 'life', 'father', 'take', 'love', 'family', 'home', 'friend', 'man', 'mother', 'day', 'return', 'later', 'come', 'make', 'wife', 'son', 'doe', 'see']\n",
            "horror :\n",
            "['find', 'house', 'kill', 'go', 'take', 'body', 'death', 'later', 'killed', 'try', 'see', 'night', 'room', 'home', 'begin', 'escape', 'man', 'father', 'car', 'friend']\n",
            "thriller :\n",
            "['police', 'find', 'go', 'kill', 'take', 'house', 'man', 'car', 'life', 'try', 'murder', 'later', 'wife', 'money', 'death', 'home', 'friend', 'killed', 'day', 'father']\n"
          ]
        }
      ]
    },
    {
      "cell_type": "markdown",
      "source": [
        "## (6) Recurrent Neural Network"
      ],
      "metadata": {
        "id": "Q4KDSKS57pDu"
      }
    },
    {
      "cell_type": "markdown",
      "source": [
        "### (6.1) LSTM"
      ],
      "metadata": {
        "id": "qVCd8nP4cQIx"
      }
    },
    {
      "cell_type": "markdown",
      "source": [
        "Defining parameters"
      ],
      "metadata": {
        "id": "n6fB8jgXlv_S"
      }
    },
    {
      "cell_type": "code",
      "source": [
        "MAX_NB_WORDS = 6000\n",
        "MAX_SEQUENCE_LENGTH = 100\n",
        "EMBEDDING_DIM = 100\n",
        "tokenizer = Tokenizer(num_words=MAX_NB_WORDS, filters='!\"#$%&()*+,-./:;<=>?@[\\]^_`{|}~', lower=True)\n",
        "tokenizer.fit_on_texts(movies_edit3['clean_plot'].values)\n",
        "word_index = tokenizer.word_index\n",
        "print('Found %s unique tokens.' % len(word_index))"
      ],
      "metadata": {
        "colab": {
          "base_uri": "https://localhost:8080/"
        },
        "id": "SQSENcQmbLcp",
        "outputId": "9021049f-4742-44b2-cb96-4dd8c0066846"
      },
      "execution_count": null,
      "outputs": [
        {
          "output_type": "stream",
          "name": "stdout",
          "text": [
            "Found 57497 unique tokens.\n"
          ]
        }
      ]
    },
    {
      "cell_type": "code",
      "source": [
        "X = tokenizer.texts_to_sequences(movies_edit3['clean_plot'].values)\n",
        "X = pad_sequences(X, maxlen=MAX_SEQUENCE_LENGTH)\n",
        "print('Shape of data tensor:', X.shape)"
      ],
      "metadata": {
        "colab": {
          "base_uri": "https://localhost:8080/"
        },
        "id": "tkdWIttpbO_R",
        "outputId": "b5b2d033-3209-4ef1-ccbb-6208fba8a945"
      },
      "execution_count": null,
      "outputs": [
        {
          "output_type": "stream",
          "name": "stdout",
          "text": [
            "Shape of data tensor: (6300, 100)\n"
          ]
        }
      ]
    },
    {
      "cell_type": "code",
      "source": [
        "Y = pd.get_dummies(movies_edit3['First_genre']).values\n",
        "print('Shape of label tensor:', Y.shape)"
      ],
      "metadata": {
        "colab": {
          "base_uri": "https://localhost:8080/"
        },
        "id": "0xLhwgGWbPB4",
        "outputId": "d360a137-e0de-4177-89d7-09ec8d14ae50"
      },
      "execution_count": null,
      "outputs": [
        {
          "output_type": "stream",
          "name": "stdout",
          "text": [
            "Shape of label tensor: (6300, 5)\n"
          ]
        }
      ]
    },
    {
      "cell_type": "code",
      "source": [
        "X_train, X_test, Y_train, Y_test = train_test_split(X,Y, test_size = 0.2, random_state = 42)\n",
        "print(X_train.shape,Y_train.shape)\n",
        "print(X_test.shape,Y_test.shape)"
      ],
      "metadata": {
        "colab": {
          "base_uri": "https://localhost:8080/"
        },
        "id": "b6_oTAYGbPE0",
        "outputId": "20542d88-3a4f-40ff-8581-7159e38573b4"
      },
      "execution_count": null,
      "outputs": [
        {
          "output_type": "stream",
          "name": "stdout",
          "text": [
            "(5040, 100) (5040, 5)\n",
            "(1260, 100) (1260, 5)\n"
          ]
        }
      ]
    },
    {
      "cell_type": "markdown",
      "source": [
        "Defining model architecture:\n",
        "\n",
        "- Embedding layer\n",
        "\n",
        "- Dropout layer ( SpatialDropout1D will help promote independence between feature map)\n",
        "\n",
        "- LSTM layer\n",
        "\n",
        "- Dense layer"
      ],
      "metadata": {
        "id": "HziPUsTNlzvR"
      }
    },
    {
      "cell_type": "code",
      "source": [
        "model = Sequential()\n",
        "model.add(Embedding(MAX_NB_WORDS, EMBEDDING_DIM, input_length=X.shape[1]))\n",
        "model.add(SpatialDropout1D(0.2))\n",
        "model.add(LSTM(100, dropout=0.2, recurrent_dropout=0.2))\n",
        "model.add(Dense(5, activation='softmax'))\n",
        "model.compile(loss='categorical_crossentropy', optimizer='adam', metrics=['accuracy'])"
      ],
      "metadata": {
        "id": "Q5-ObRwvbPHs"
      },
      "execution_count": null,
      "outputs": []
    },
    {
      "cell_type": "code",
      "source": [
        "epochs = 6\n",
        "batch_size = 64"
      ],
      "metadata": {
        "id": "w0K_VXecl3rc"
      },
      "execution_count": null,
      "outputs": []
    },
    {
      "cell_type": "markdown",
      "source": [
        "#### (6.1.1) Training the model"
      ],
      "metadata": {
        "id": "lMlL3H7tl9Tt"
      }
    },
    {
      "cell_type": "code",
      "source": [
        "history = model.fit(X_train, Y_train, epochs=epochs, batch_size=batch_size,validation_split=0.1,callbacks=[EarlyStopping(monitor='val_loss', patience=3, min_delta=0.0001)])"
      ],
      "metadata": {
        "colab": {
          "base_uri": "https://localhost:8080/"
        },
        "id": "hJHgA4z9bPLL",
        "outputId": "d9efa79a-026b-4a9a-93d0-9242d18991e3"
      },
      "execution_count": null,
      "outputs": [
        {
          "output_type": "stream",
          "name": "stdout",
          "text": [
            "Epoch 1/6\n",
            "71/71 [==============================] - 48s 606ms/step - loss: 1.5342 - accuracy: 0.2987 - val_loss: 1.3824 - val_accuracy: 0.3651\n",
            "Epoch 2/6\n",
            "71/71 [==============================] - 42s 595ms/step - loss: 1.2995 - accuracy: 0.4425 - val_loss: 1.3231 - val_accuracy: 0.4345\n",
            "Epoch 3/6\n",
            "71/71 [==============================] - 42s 597ms/step - loss: 1.0285 - accuracy: 0.5741 - val_loss: 1.2175 - val_accuracy: 0.5238\n",
            "Epoch 4/6\n",
            "71/71 [==============================] - 42s 596ms/step - loss: 0.7648 - accuracy: 0.7046 - val_loss: 1.4414 - val_accuracy: 0.4802\n",
            "Epoch 5/6\n",
            "71/71 [==============================] - 42s 594ms/step - loss: 0.5508 - accuracy: 0.8126 - val_loss: 1.3175 - val_accuracy: 0.5417\n",
            "Epoch 6/6\n",
            "71/71 [==============================] - 42s 595ms/step - loss: 0.3622 - accuracy: 0.8787 - val_loss: 1.4061 - val_accuracy: 0.5238\n"
          ]
        }
      ]
    },
    {
      "cell_type": "code",
      "source": [
        "accr = model.evaluate(X_test,Y_test)\n",
        "print('Test set\\n  Loss: {:0.3f}\\n  Accuracy: {:0.3f}'.format(accr[0],accr[1]))"
      ],
      "metadata": {
        "colab": {
          "base_uri": "https://localhost:8080/"
        },
        "id": "FzXxFNY-bVF4",
        "outputId": "7492559f-1f55-41a9-f0ce-9ec7114c2d7b"
      },
      "execution_count": null,
      "outputs": [
        {
          "output_type": "stream",
          "name": "stdout",
          "text": [
            "40/40 [==============================] - 2s 41ms/step - loss: 1.5361 - accuracy: 0.4730\n",
            "Test set\n",
            "  Loss: 1.536\n",
            "  Accuracy: 0.473\n"
          ]
        }
      ]
    },
    {
      "cell_type": "code",
      "source": [
        "plt.title('Accuracy')\n",
        "plt.plot(history.history['accuracy'], label='train accuracy')\n",
        "plt.plot(history.history['val_accuracy'], label='test accuracy')\n",
        "plt.legend()\n",
        "plt.show()"
      ],
      "metadata": {
        "colab": {
          "base_uri": "https://localhost:8080/",
          "height": 281
        },
        "id": "DJ5WAb1CbVIg",
        "outputId": "d534af2c-272b-4062-f0c2-74d902fe1329"
      },
      "execution_count": null,
      "outputs": [
        {
          "output_type": "display_data",
          "data": {
            "image/png": "[encoded data removed]",
            "text/plain": [
              "<Figure size 432x288 with 1 Axes>"
            ]
          },
          "metadata": {
            "needs_background": "light"
          }
        }
      ]
    },
    {
      "cell_type": "code",
      "source": [
        "plt.title('Loss')\n",
        "plt.plot(history.history['loss'], label='train loss')\n",
        "plt.plot(history.history['val_loss'], label='test loss')\n",
        "plt.legend()\n",
        "plt.show()"
      ],
      "metadata": {
        "colab": {
          "base_uri": "https://localhost:8080/",
          "height": 281
        },
        "id": "0n0mq45Sd7gD",
        "outputId": "97381d05-ffb0-41f8-ca0f-fce519ab6311"
      },
      "execution_count": null,
      "outputs": [
        {
          "output_type": "display_data",
          "data": {
            "image/png": "[encoded data removed]",
            "text/plain": [
              "<Figure size 432x288 with 1 Axes>"
            ]
          },
          "metadata": {
            "needs_background": "light"
          }
        }
      ]
    },
    {
      "cell_type": "code",
      "source": [
        "y_predict = np.argmax(model.predict(X_test), axis=-1)\n",
        "y_true = Y_test.argmax(axis=1)\n",
        "label_names = movies_edit3['First_genre'].unique()"
      ],
      "metadata": {
        "id": "oYtd_J5HbVLf"
      },
      "execution_count": null,
      "outputs": []
    },
    {
      "cell_type": "code",
      "source": [
        "print(classification_report(y_true, y_predict, target_names=label_names))"
      ],
      "metadata": {
        "colab": {
          "base_uri": "https://localhost:8080/"
        },
        "id": "Yyb6h41FbVON",
        "outputId": "bdb6f38b-df5a-4c22-fd90-91cd6f3392cd"
      },
      "execution_count": null,
      "outputs": [
        {
          "output_type": "stream",
          "name": "stdout",
          "text": [
            "              precision    recall  f1-score   support\n",
            "\n",
            "      comedy       0.58      0.41      0.48       257\n",
            "       drama       0.50      0.48      0.49       272\n",
            "      horror       0.31      0.38      0.34       231\n",
            "    thriller       0.75      0.68      0.71       250\n",
            "      action       0.33      0.41      0.37       250\n",
            "\n",
            "    accuracy                           0.47      1260\n",
            "   macro avg       0.49      0.47      0.48      1260\n",
            "weighted avg       0.50      0.47      0.48      1260\n",
            "\n"
          ]
        }
      ]
    },
    {
      "cell_type": "markdown",
      "source": [
        "#### (6.1.2) Confusion Matrix"
      ],
      "metadata": {
        "id": "a6Ue4029mVDy"
      }
    },
    {
      "cell_type": "code",
      "source": [
        "cm = confusion_matrix(y_true,y_predict)\n",
        "disp = ConfusionMatrixDisplay(confusion_matrix=cm, display_labels = label_names)\n",
        "disp.plot()\n",
        "plt.show()"
      ],
      "metadata": {
        "colab": {
          "base_uri": "https://localhost:8080/",
          "height": 279
        },
        "id": "bsa9PnEXbckR",
        "outputId": "f3464644-ec77-49a4-d14f-608e1c8be907"
      },
      "execution_count": null,
      "outputs": [
        {
          "output_type": "display_data",
          "data": {
            "image/png": "[encoded data removed]",
            "text/plain": [
              "<Figure size 432x288 with 2 Axes>"
            ]
          },
          "metadata": {
            "needs_background": "light"
          }
        }
      ]
    },
    {
      "cell_type": "markdown",
      "source": [
        "### (6.2) Bi-LSTM"
      ],
      "metadata": {
        "id": "ubvpqXpWcCd5"
      }
    },
    {
      "cell_type": "code",
      "source": [
        "model = Sequential()\n",
        "model.add(Embedding(MAX_NB_WORDS, EMBEDDING_DIM, input_length=X.shape[1]))\n",
        "model.add(SpatialDropout1D(0.2))\n",
        "model.add(Bidirectional(LSTM(100, dropout=0.2, recurrent_dropout=0.2)))\n",
        "model.add(Dense(5, activation='softmax'))\n",
        "model.compile(loss='categorical_crossentropy', optimizer='adam', metrics=['accuracy'])"
      ],
      "metadata": {
        "id": "lnPSXK79cUqc",
        "colab": {
          "base_uri": "https://localhost:8080/"
        },
        "outputId": "38ce062c-9467-49bf-d0de-9873937d358c"
      },
      "execution_count": null,
      "outputs": [
        {
          "output_type": "stream",
          "name": "stdout",
          "text": [
            "WARNING:tensorflow:Layer lstm_1 will not use cuDNN kernels since it doesn't meet the criteria. It will use a generic GPU kernel as fallback when running on GPU.\n",
            "WARNING:tensorflow:Layer lstm_1 will not use cuDNN kernels since it doesn't meet the criteria. It will use a generic GPU kernel as fallback when running on GPU.\n",
            "WARNING:tensorflow:Layer lstm_1 will not use cuDNN kernels since it doesn't meet the criteria. It will use a generic GPU kernel as fallback when running on GPU.\n"
          ]
        }
      ]
    },
    {
      "cell_type": "code",
      "source": [
        "epochs = 2\n",
        "batch_size = 64"
      ],
      "metadata": {
        "id": "OoBw9fP3cpwC"
      },
      "execution_count": null,
      "outputs": []
    },
    {
      "cell_type": "markdown",
      "source": [
        "#### (6.2.1) Training the model"
      ],
      "metadata": {
        "id": "1bOUDuW4mH3s"
      }
    },
    {
      "cell_type": "code",
      "source": [
        "history = model.fit(X_train, Y_train, epochs=epochs, batch_size=batch_size,validation_split=0.1)"
      ],
      "metadata": {
        "colab": {
          "base_uri": "https://localhost:8080/"
        },
        "id": "xvTHukN6cUtN",
        "outputId": "82ef9f6b-df29-4515-a99e-10e9a25c2320"
      },
      "execution_count": null,
      "outputs": [
        {
          "output_type": "stream",
          "name": "stdout",
          "text": [
            "Epoch 1/2\n",
            "71/71 [==============================] - 91s 1s/step - loss: 1.5606 - accuracy: 0.2718 - val_loss: 1.4116 - val_accuracy: 0.3671\n",
            "Epoch 2/2\n",
            "71/71 [==============================] - 84s 1s/step - loss: 1.2573 - accuracy: 0.4647 - val_loss: 1.2566 - val_accuracy: 0.5000\n"
          ]
        }
      ]
    },
    {
      "cell_type": "code",
      "source": [
        "accr = model.evaluate(X_test,Y_test)\n",
        "print('Test set\\n  Loss: {:0.3f}\\n  Accuracy: {:0.3f}'.format(accr[0],accr[1]))"
      ],
      "metadata": {
        "colab": {
          "base_uri": "https://localhost:8080/"
        },
        "id": "2rlA2rcPcgMW",
        "outputId": "89f7fcfe-9765-4d8c-a9f4-14a5dc7c720e"
      },
      "execution_count": null,
      "outputs": [
        {
          "output_type": "stream",
          "name": "stdout",
          "text": [
            "40/40 [==============================] - 3s 76ms/step - loss: 1.3003 - accuracy: 0.4635\n",
            "Test set\n",
            "  Loss: 1.300\n",
            "  Accuracy: 0.463\n"
          ]
        }
      ]
    },
    {
      "cell_type": "code",
      "source": [
        "plt.title('Accuracy')\n",
        "plt.plot(history.history['accuracy'], label='train accuracy')\n",
        "plt.plot(history.history['val_accuracy'], label='test accuracy')\n",
        "plt.legend()\n",
        "plt.show()"
      ],
      "metadata": {
        "colab": {
          "base_uri": "https://localhost:8080/",
          "height": 281
        },
        "id": "KhxnHxC3cgO0",
        "outputId": "d015531b-dde4-44e3-ddb8-99a4e86c615a"
      },
      "execution_count": null,
      "outputs": [
        {
          "output_type": "display_data",
          "data": {
            "image/png": "[encoded data removed]",
            "text/plain": [
              "<Figure size 432x288 with 1 Axes>"
            ]
          },
          "metadata": {
            "needs_background": "light"
          }
        }
      ]
    },
    {
      "cell_type": "code",
      "source": [
        "plt.title('Loss')\n",
        "plt.plot(history.history['loss'], label='train loss')\n",
        "plt.plot(history.history['val_loss'], label='test loss')\n",
        "plt.legend()\n",
        "plt.show()"
      ],
      "metadata": {
        "colab": {
          "base_uri": "https://localhost:8080/",
          "height": 281
        },
        "id": "85-RVro3ezeC",
        "outputId": "1b831fb8-254c-4678-fecb-f2054062535c"
      },
      "execution_count": null,
      "outputs": [
        {
          "output_type": "display_data",
          "data": {
            "image/png": "[encoded data removed]",
            "text/plain": [
              "<Figure size 432x288 with 1 Axes>"
            ]
          },
          "metadata": {
            "needs_background": "light"
          }
        }
      ]
    },
    {
      "cell_type": "code",
      "source": [
        "y_predict = np.argmax(model.predict(X_test), axis=-1)\n",
        "y_true = Y_test.argmax(axis=1)\n",
        "label_names = movies_edit3['First_genre'].unique()"
      ],
      "metadata": {
        "id": "YRLrK3trcitN"
      },
      "execution_count": null,
      "outputs": []
    },
    {
      "cell_type": "code",
      "source": [
        "print(classification_report(y_true, y_predict, target_names=label_names))"
      ],
      "metadata": {
        "colab": {
          "base_uri": "https://localhost:8080/"
        },
        "id": "6Q2aT79uclXX",
        "outputId": "db550c62-30e2-4b48-d8ae-acab74ccef0d"
      },
      "execution_count": null,
      "outputs": [
        {
          "output_type": "stream",
          "name": "stdout",
          "text": [
            "              precision    recall  f1-score   support\n",
            "\n",
            "      comedy       0.39      0.80      0.52       257\n",
            "       drama       0.45      0.59      0.51       272\n",
            "      horror       0.29      0.11      0.16       231\n",
            "    thriller       0.76      0.66      0.70       250\n",
            "      action       0.39      0.12      0.18       250\n",
            "\n",
            "    accuracy                           0.46      1260\n",
            "   macro avg       0.46      0.45      0.42      1260\n",
            "weighted avg       0.46      0.46      0.42      1260\n",
            "\n"
          ]
        }
      ]
    },
    {
      "cell_type": "markdown",
      "source": [
        "#### (6.2.2)Confusion matrix"
      ],
      "metadata": {
        "id": "pqmpusRamOuA"
      }
    },
    {
      "cell_type": "code",
      "source": [
        "cm = confusion_matrix(y_true,y_predict)\n",
        "disp = ConfusionMatrixDisplay(confusion_matrix=cm, display_labels = label_names)\n",
        "disp.plot()\n",
        "plt.show()"
      ],
      "metadata": {
        "colab": {
          "base_uri": "https://localhost:8080/",
          "height": 279
        },
        "id": "7sx5J1toclZ6",
        "outputId": "801b59fa-c63f-4c2a-ca65-5a4554764dda"
      },
      "execution_count": null,
      "outputs": [
        {
          "output_type": "display_data",
          "data": {
            "image/png": "[encoded data removed]",
            "text/plain": [
              "<Figure size 432x288 with 2 Axes>"
            ]
          },
          "metadata": {
            "needs_background": "light"
          }
        }
      ]
    },
    {
      "cell_type": "markdown",
      "source": [
        "## (7) Bert"
      ],
      "metadata": {
        "id": "3Ew8ToqmjQs6"
      }
    },
    {
      "cell_type": "markdown",
      "source": [
        "### (7.1) Preprocessing data\n",
        "We create a new dataframe with only two columns: \n",
        "* clean_plot (our independent variable)\n",
        "* First_Genre (our response)\n"
      ],
      "metadata": {
        "id": "uNgPXmmPjxMC"
      }
    },
    {
      "cell_type": "code",
      "source": [
        "df=movies_edit3[['Plot','First_genre']]"
      ],
      "metadata": {
        "id": "2kFZXV5_jtDz"
      },
      "execution_count": null,
      "outputs": []
    },
    {
      "cell_type": "code",
      "source": [
        "#df =df.rename(columns={'clean_plot':'TITLE','First_genre':'CATEGORY'})"
      ],
      "metadata": {
        "id": "-K1Qx4cdkRAY"
      },
      "execution_count": null,
      "outputs": []
    },
    {
      "cell_type": "markdown",
      "source": [
        "We define a new function to factorize each genre from 0 to 5."
      ],
      "metadata": {
        "id": "-85aSa1q2f27"
      }
    },
    {
      "cell_type": "code",
      "source": [
        "encode_dict = {}\n",
        "\n",
        "def encode_cat(x):\n",
        "    if x not in encode_dict.keys():\n",
        "        encode_dict[x]=len(encode_dict)\n",
        "    return encode_dict[x]\n",
        "\n",
        "df['ENCODE_CAT'] = df['First_genre'].apply(lambda x: encode_cat(x))"
      ],
      "metadata": {
        "id": "AAY_ACV0kUpC",
        "colab": {
          "base_uri": "https://localhost:8080/"
        },
        "outputId": "c8631307-755c-49fe-8250-a28cdeeabcad"
      },
      "execution_count": null,
      "outputs": [
        {
          "output_type": "stream",
          "name": "stderr",
          "text": [
            "/usr/local/lib/python3.7/dist-packages/ipykernel_launcher.py:8: SettingWithCopyWarning: \n",
            "A value is trying to be set on a copy of a slice from a DataFrame.\n",
            "Try using .loc[row_indexer,col_indexer] = value instead\n",
            "\n",
            "See the caveats in the documentation: https://pandas.pydata.org/pandas-docs/stable/user_guide/indexing.html#returning-a-view-versus-a-copy\n",
            "  \n"
          ]
        }
      ]
    },
    {
      "cell_type": "markdown",
      "source": [
        "Defining some key variables that will be used later on in the training"
      ],
      "metadata": {
        "id": "2psGAhx9lOx-"
      }
    },
    {
      "cell_type": "code",
      "source": [
        "MAX_LEN = 100\n",
        "TRAIN_BATCH_SIZE = 4\n",
        "VALID_BATCH_SIZE = 2 \n",
        "EPOCHS = 6\n",
        "LEARNING_RATE = 1e-05\n",
        "tokenizer = DistilBertTokenizer.from_pretrained('distilbert-base-cased')"
      ],
      "metadata": {
        "id": "e4y8JSVskfSl",
        "colab": {
          "base_uri": "https://localhost:8080/",
          "height": 145,
          "referenced_widgets": [
            "2f1d12ebd59846918700a471c0a4e3b0",
            "6c330bb607db4c4a9cf4fbed58afee66",
            "50af1f53c2eb4045b9168cff7f7de79f",
            "660731255b584d51871e4cd13f051610",
            "c0da3838a8fd411e99d34d5da9670d06",
            "7efb9138973e430488c1c2ed5668dd48",
            "c19c020c88d14d68ad1d6ddfecf6c305",
            "ce639650812c40df93658440258063b9",
            "08a558b0f66646a1bd1720b90b9f73fe",
            "4c1df9256d7c4ec59f817ece7d80c8b4",
            "8b40543d7a2c45daa248db306b459aba",
            "bbbec193bb854651b186267690b2ee20",
            "e3695652c8714d40a165e26efab8ae5e",
            "56a73b368b0c480cb46f343c0304b199",
            "c41da7ffc39d4d2d896fa994c331fd1b",
            "626f68193016463d969a4be2778df0b0",
            "1cc50b4f397e4cef930767a4407b93ba",
            "37203d1d73724bf2bd20f93b3bb3a5f7",
            "77a7a0318a9c4e1b93a8233840f253c5",
            "7272811868da4d9ea698affb288a51ad",
            "e420bfa954c44684ac9118420e4451ec",
            "85f120c077e74ee4a29819df1ca0de3f",
            "1b0d09085f70424d9ace143a73cbe884",
            "74a9ca5e9e0c45c58e9216ea633e7f19",
            "57c763adf41f4e52886d7081cd5a5716",
            "bade8bc793eb4f9e9c53c480a7c6d678",
            "9e8125cd22934c01aa855a667ca3cfda",
            "4a34e93259c744af9eb1763b1c57ae82",
            "48a9338e339e4d9e85c39a24a2c5b336",
            "0c1b58b4aef14e0e8431df7d23fd104a",
            "f8c13f7b6c074c5a873db102b6cdf373",
            "c3c775cf531b48788cba43ee58237c5f",
            "a119e77652584fd9b44881a7bdcc9b18",
            "d4b68b5bed594f7f9045ad6d82f12a7f",
            "30386f78492e4981baa6196cf59c3593",
            "b4ae2d19117d4ef78e4c22a87719e412",
            "f432ecb008a14cff9fd760f2d31cdc9d",
            "f978b0ced5f045659498ee35a6fd0fd5",
            "753508614f2c4b44858cc7e635d8d7a5",
            "afc2b2ec39814d12ac234c554a95d01f",
            "287eaf726b1d4bf4a8ff3c1b853949e3",
            "9606945e46274ce2b51a9e1034ef8555",
            "9b5fdc8119bc4d109ed66f46157582c2",
            "47fa057e989c4987a1a709eace4ac22e"
          ]
        },
        "outputId": "f74ab206-f1d8-4565-f1c9-a945489886ca"
      },
      "execution_count": null,
      "outputs": [
        {
          "output_type": "display_data",
          "data": {
            "application/vnd.jupyter.widget-view+json": {
              "model_id": "2f1d12ebd59846918700a471c0a4e3b0",
              "version_minor": 0,
              "version_major": 2
            },
            "text/plain": [
              "Downloading:   0%|          | 0.00/208k [00:00<?, ?B/s]"
            ]
          },
          "metadata": {}
        },
        {
          "output_type": "display_data",
          "data": {
            "application/vnd.jupyter.widget-view+json": {
              "model_id": "bbbec193bb854651b186267690b2ee20",
              "version_minor": 0,
              "version_major": 2
            },
            "text/plain": [
              "Downloading:   0%|          | 0.00/29.0 [00:00<?, ?B/s]"
            ]
          },
          "metadata": {}
        },
        {
          "output_type": "display_data",
          "data": {
            "application/vnd.jupyter.widget-view+json": {
              "model_id": "1b0d09085f70424d9ace143a73cbe884",
              "version_minor": 0,
              "version_major": 2
            },
            "text/plain": [
              "Downloading:   0%|          | 0.00/426k [00:00<?, ?B/s]"
            ]
          },
          "metadata": {}
        },
        {
          "output_type": "display_data",
          "data": {
            "application/vnd.jupyter.widget-view+json": {
              "model_id": "d4b68b5bed594f7f9045ad6d82f12a7f",
              "version_minor": 0,
              "version_major": 2
            },
            "text/plain": [
              "Downloading:   0%|          | 0.00/411 [00:00<?, ?B/s]"
            ]
          },
          "metadata": {}
        }
      ]
    },
    {
      "cell_type": "code",
      "source": [
        "class Triage(Dataset):\n",
        "    def __init__(self, dataframe, tokenizer, max_len):\n",
        "        self.len = len(dataframe)\n",
        "        self.data = dataframe\n",
        "        self.tokenizer = tokenizer\n",
        "        self.max_len = max_len\n",
        "        \n",
        "    def __getitem__(self, index):\n",
        "        title = str(self.data.Plot[index])\n",
        "        title = \" \".join(title.split())\n",
        "        inputs = self.tokenizer.encode_plus(\n",
        "            title,\n",
        "            None,\n",
        "            add_special_tokens=True,\n",
        "            max_length=self.max_len,\n",
        "            pad_to_max_length=True,\n",
        "            return_token_type_ids=True,\n",
        "            truncation=True\n",
        "        )\n",
        "        ids = inputs['input_ids']\n",
        "        mask = inputs['attention_mask']\n",
        "\n",
        "        return {\n",
        "            'ids': torch.tensor(ids, dtype=torch.long),\n",
        "            'mask': torch.tensor(mask, dtype=torch.long),\n",
        "            'targets': torch.tensor(self.data.ENCODE_CAT[index], dtype=torch.long)\n",
        "        } \n",
        "    \n",
        "    def __len__(self):\n",
        "        return self.len"
      ],
      "metadata": {
        "id": "X30uZc80kh2M"
      },
      "execution_count": null,
      "outputs": []
    },
    {
      "cell_type": "markdown",
      "source": [
        "Creating the dataset and dataloader for the neural network"
      ],
      "metadata": {
        "id": "z5k_lLWylT_a"
      }
    },
    {
      "cell_type": "code",
      "source": [
        "train_size = 0.6\n",
        "train_dataset=df.sample(frac=train_size,random_state=200)\n",
        "test_dataset=df.drop(train_dataset.index).reset_index(drop=True)\n",
        "train_dataset = train_dataset.reset_index(drop=True)\n",
        "\n",
        "\n",
        "print(\"FULL Dataset: {}\".format(df.shape))\n",
        "print(\"TRAIN Dataset: {}\".format(train_dataset.shape))\n",
        "print(\"TEST Dataset: {}\".format(test_dataset.shape))\n",
        "\n",
        "training_set = Triage(train_dataset, tokenizer, MAX_LEN)\n",
        "testing_set = Triage(test_dataset, tokenizer, MAX_LEN)"
      ],
      "metadata": {
        "id": "XPygwa6oklcO",
        "colab": {
          "base_uri": "https://localhost:8080/"
        },
        "outputId": "4b262c26-6767-47bd-ee17-2e8666f48590"
      },
      "execution_count": null,
      "outputs": [
        {
          "output_type": "stream",
          "name": "stdout",
          "text": [
            "FULL Dataset: (6300, 3)\n",
            "TRAIN Dataset: (3780, 3)\n",
            "TEST Dataset: (2520, 3)\n"
          ]
        }
      ]
    },
    {
      "cell_type": "code",
      "source": [
        "train_params = {'batch_size': TRAIN_BATCH_SIZE,\n",
        "                'shuffle': True,\n",
        "                'num_workers': 0\n",
        "                }\n",
        "\n",
        "test_params = {'batch_size': VALID_BATCH_SIZE,\n",
        "                'shuffle': True,\n",
        "                'num_workers': 0\n",
        "                }\n",
        "\n",
        "training_loader = DataLoader(training_set, **train_params)\n",
        "testing_loader = DataLoader(testing_set, **test_params)"
      ],
      "metadata": {
        "id": "j1UROqdRkmGV"
      },
      "execution_count": null,
      "outputs": []
    },
    {
      "cell_type": "markdown",
      "source": [
        "### (7.2) Bert Model"
      ],
      "metadata": {
        "id": "KI-FubJUdIfO"
      }
    },
    {
      "cell_type": "markdown",
      "source": [
        "Creating the customized model, by adding a drop out and a dense layer on top of distil bert to get the final output for the model. "
      ],
      "metadata": {
        "id": "C6zaaglHlYYV"
      }
    },
    {
      "cell_type": "code",
      "source": [
        "class DistillBERTClass(torch.nn.Module):\n",
        "    def __init__(self):\n",
        "        super(DistillBERTClass, self).__init__()\n",
        "        self.l1 = DistilBertModel.from_pretrained(\"distilbert-base-uncased\")\n",
        "        self.pre_classifier = torch.nn.Linear(768, 768)\n",
        "        self.dropout = torch.nn.Dropout(0.3)\n",
        "        self.classifier = torch.nn.Linear(768, 5)\n",
        "\n",
        "    def forward(self, input_ids, attention_mask):\n",
        "        output_1 = self.l1(input_ids=input_ids, attention_mask=attention_mask)\n",
        "        hidden_state = output_1[0]\n",
        "        pooler = hidden_state[:, 0]\n",
        "        pooler = self.pre_classifier(pooler)\n",
        "        pooler = torch.nn.ReLU()(pooler)\n",
        "        pooler = self.dropout(pooler)\n",
        "        output = self.classifier(pooler)\n",
        "        return output"
      ],
      "metadata": {
        "id": "t6zYYrWKkoYN"
      },
      "execution_count": null,
      "outputs": []
    },
    {
      "cell_type": "code",
      "source": [
        "model = DistillBERTClass()\n",
        "model.to(device)"
      ],
      "metadata": {
        "id": "yYG0HmzTkuyi"
      },
      "execution_count": null,
      "outputs": []
    },
    {
      "cell_type": "markdown",
      "source": [
        "Creating the loss function and optimizer"
      ],
      "metadata": {
        "id": "lIns-lLglcGj"
      }
    },
    {
      "cell_type": "code",
      "source": [
        "loss_function = torch.nn.CrossEntropyLoss()\n",
        "optimizer = torch.optim.Adam(params =  model.parameters(), lr=LEARNING_RATE)"
      ],
      "metadata": {
        "id": "2NjE-hxykwxU"
      },
      "execution_count": null,
      "outputs": []
    },
    {
      "cell_type": "markdown",
      "source": [
        "Function to calcuate the accuracy of the model"
      ],
      "metadata": {
        "id": "uVbySj2vlfQy"
      }
    },
    {
      "cell_type": "code",
      "source": [
        "def calcuate_accu(big_idx, targets):\n",
        "    n_correct = (big_idx==targets).sum().item()\n",
        "    return n_correct"
      ],
      "metadata": {
        "id": "LbPYOGvyk1QM"
      },
      "execution_count": null,
      "outputs": []
    },
    {
      "cell_type": "markdown",
      "source": [
        "Defining the training function on the 80% of the dataset for tuning the distilbert model"
      ],
      "metadata": {
        "id": "lJ7Ox1woljxV"
      }
    },
    {
      "cell_type": "code",
      "source": [
        "def train(epoch):\n",
        "    tr_loss = 0\n",
        "    n_correct = 0\n",
        "    nb_tr_steps = 0\n",
        "    nb_tr_examples = 0\n",
        "    model.train()\n",
        "    for _,data in enumerate(training_loader, 0):\n",
        "        ids = data['ids'].to(device, dtype = torch.long)\n",
        "        mask = data['mask'].to(device, dtype = torch.long)\n",
        "        targets = data['targets'].to(device, dtype = torch.long)\n",
        "\n",
        "        outputs = model(ids, mask)\n",
        "        loss = loss_function(outputs, targets)\n",
        "        tr_loss += loss.item()\n",
        "        big_val, big_idx = torch.max(outputs.data, dim=1)\n",
        "        n_correct += calcuate_accu(big_idx, targets)\n",
        "\n",
        "        nb_tr_steps += 1\n",
        "        nb_tr_examples+=targets.size(0)\n",
        "        \n",
        "        if _%100==0:\n",
        "          loss_step = tr_loss/nb_tr_steps\n",
        "          accu_step = (n_correct*100)/nb_tr_examples \n",
        "          print(f\"Training Accuracy per step {nb_tr_steps}: {accu_step}\")\n",
        "\n",
        "        optimizer.zero_grad()\n",
        "        loss.backward()\n",
        "        optimizer.step()\n",
        "\n",
        "    print(f'The Total Accuracy for Epoch {epoch}: {(n_correct*100)/nb_tr_examples}')\n",
        "    epoch_loss = tr_loss/nb_tr_steps\n",
        "    epoch_accu = (n_correct*100)/nb_tr_examples\n",
        "    print(f\"Training Loss Epoch: {epoch_loss}\")\n",
        "    print(f\"Training Accuracy Epoch: {epoch_accu}\")\n",
        "\n",
        "    return "
      ],
      "metadata": {
        "id": "PlvZowrKk09D"
      },
      "execution_count": null,
      "outputs": []
    },
    {
      "cell_type": "markdown",
      "source": [
        "#### (7.2.1) Training the model"
      ],
      "metadata": {
        "id": "n26xAKgkdnJK"
      }
    },
    {
      "cell_type": "code",
      "source": [
        "for epoch in range(EPOCHS):\n",
        "    train(epoch)"
      ],
      "metadata": {
        "id": "tI5A12SQk53n",
        "colab": {
          "base_uri": "https://localhost:8080/"
        },
        "outputId": "b36cb4a2-5c12-4bb4-921c-54ed7f0c8a8f"
      },
      "execution_count": null,
      "outputs": [
        {
          "output_type": "stream",
          "name": "stderr",
          "text": [
            "/usr/local/lib/python3.7/dist-packages/transformers/tokenization_utils_base.py:2227: FutureWarning: The `pad_to_max_length` argument is deprecated and will be removed in a future version, use `padding=True` or `padding='longest'` to pad to the longest sequence in the batch, or use `padding='max_length'` to pad to a max length. In this case, you can give a specific length with `max_length` (e.g. `max_length=45`) or leave max_length to None to pad to the maximal input size of the model (e.g. 512 for Bert).\n",
            "  FutureWarning,\n"
          ]
        },
        {
          "output_type": "stream",
          "name": "stdout",
          "text": [
            "Training Accuracy per step 1: 75.0\n",
            "Training Accuracy per step 101: 50.742574257425744\n",
            "Training Accuracy per step 201: 48.507462686567166\n",
            "Training Accuracy per step 301: 48.42192691029901\n",
            "Training Accuracy per step 401: 48.12967581047381\n",
            "Training Accuracy per step 501: 47.455089820359284\n",
            "Training Accuracy per step 601: 47.67054908485857\n",
            "Training Accuracy per step 701: 47.182596291012835\n",
            "Training Accuracy per step 801: 47.56554307116105\n",
            "Training Accuracy per step 901: 47.41953385127636\n",
            "The Total Accuracy for Epoch 0: 47.698412698412696\n",
            "Training Loss Epoch: 1.2130338935624985\n",
            "Training Accuracy Epoch: 47.698412698412696\n",
            "Training Accuracy per step 1: 50.0\n",
            "Training Accuracy per step 101: 55.693069306930695\n",
            "Training Accuracy per step 201: 60.44776119402985\n",
            "Training Accuracy per step 301: 59.63455149501661\n",
            "Training Accuracy per step 401: 59.35162094763092\n",
            "Training Accuracy per step 501: 59.08183632734531\n",
            "Training Accuracy per step 601: 59.52579034941764\n",
            "Training Accuracy per step 701: 58.98716119828816\n",
            "Training Accuracy per step 801: 58.98876404494382\n",
            "Training Accuracy per step 901: 58.9622641509434\n",
            "The Total Accuracy for Epoch 1: 59.12698412698413\n",
            "Training Loss Epoch: 1.0016622523151377\n",
            "Training Accuracy Epoch: 59.12698412698413\n",
            "Training Accuracy per step 1: 50.0\n",
            "Training Accuracy per step 101: 66.83168316831683\n",
            "Training Accuracy per step 201: 65.54726368159204\n",
            "Training Accuracy per step 301: 67.85714285714286\n",
            "Training Accuracy per step 401: 68.14214463840399\n",
            "Training Accuracy per step 501: 68.06387225548902\n",
            "Training Accuracy per step 601: 68.05324459234609\n",
            "Training Accuracy per step 701: 68.43794579172611\n",
            "Training Accuracy per step 801: 68.63295880149813\n",
            "Training Accuracy per step 901: 68.84017758046615\n",
            "The Total Accuracy for Epoch 2: 69.12698412698413\n",
            "Training Loss Epoch: 0.7823766056980406\n",
            "Training Accuracy Epoch: 69.12698412698413\n",
            "Training Accuracy per step 1: 100.0\n",
            "Training Accuracy per step 101: 82.92079207920793\n",
            "Training Accuracy per step 201: 80.72139303482587\n",
            "Training Accuracy per step 301: 80.23255813953489\n",
            "Training Accuracy per step 401: 80.36159600997506\n",
            "Training Accuracy per step 501: 79.34131736526946\n",
            "Training Accuracy per step 601: 79.53410981697171\n",
            "Training Accuracy per step 701: 79.63623395149786\n",
            "Training Accuracy per step 801: 79.68164794007491\n",
            "Training Accuracy per step 901: 79.85571587125416\n",
            "The Total Accuracy for Epoch 3: 79.8941798941799\n",
            "Training Loss Epoch: 0.5614597646568819\n",
            "Training Accuracy Epoch: 79.8941798941799\n",
            "Training Accuracy per step 1: 100.0\n",
            "Training Accuracy per step 101: 87.12871287128714\n",
            "Training Accuracy per step 201: 88.93034825870647\n",
            "Training Accuracy per step 301: 89.11960132890366\n",
            "Training Accuracy per step 401: 87.96758104738154\n",
            "Training Accuracy per step 501: 87.42514970059881\n",
            "Training Accuracy per step 601: 87.85357737104825\n",
            "Training Accuracy per step 701: 88.01711840228245\n",
            "Training Accuracy per step 801: 88.4207240948814\n",
            "Training Accuracy per step 901: 88.12430632630411\n",
            "The Total Accuracy for Epoch 4: 88.04232804232804\n",
            "Training Loss Epoch: 0.37448643889061356\n",
            "Training Accuracy Epoch: 88.04232804232804\n",
            "Training Accuracy per step 1: 75.0\n",
            "Training Accuracy per step 101: 92.32673267326733\n",
            "Training Accuracy per step 201: 93.03482587064677\n",
            "Training Accuracy per step 301: 93.02325581395348\n",
            "Training Accuracy per step 401: 92.33167082294264\n",
            "Training Accuracy per step 501: 92.06586826347305\n",
            "Training Accuracy per step 601: 92.09650582362728\n",
            "Training Accuracy per step 701: 92.08273894436519\n",
            "Training Accuracy per step 801: 92.16604244694132\n",
            "Training Accuracy per step 901: 92.2031076581576\n",
            "The Total Accuracy for Epoch 5: 92.27513227513228\n",
            "Training Loss Epoch: 0.24836214807909474\n",
            "Training Accuracy Epoch: 92.27513227513228\n"
          ]
        }
      ]
    },
    {
      "cell_type": "markdown",
      "source": [
        "#### (7.2.2) Testing the model"
      ],
      "metadata": {
        "id": "yskQSu46dYfc"
      }
    },
    {
      "cell_type": "code",
      "source": [
        "def valid(model, testing_loader):\n",
        "    model.eval()\n",
        "    n_correct = 0; n_wrong = 0; total = 0\n",
        "    nb_tr_steps=0 ;nb_tr_examples=0 ; tr_loss=0\n",
        "    with torch.no_grad():\n",
        "        for _, data in enumerate(testing_loader, 0):\n",
        "            ids = data['ids'].to(device, dtype = torch.long)\n",
        "            mask = data['mask'].to(device, dtype = torch.long)\n",
        "            targets = data['targets'].to(device, dtype = torch.long)\n",
        "            outputs = model(ids, mask).squeeze()\n",
        "            loss = loss_function(outputs, targets)\n",
        "            tr_loss += loss.item()\n",
        "            big_val, big_idx = torch.max(outputs.data, dim=1)\n",
        "            n_correct += calcuate_accu(big_idx, targets)\n",
        "\n",
        "            nb_tr_steps += 1\n",
        "            nb_tr_examples+=targets.size(0)\n",
        "            \n",
        "    epoch_loss = tr_loss/nb_tr_steps\n",
        "    epoch_accu = (n_correct*100)/nb_tr_examples\n",
        "    print(f\"Validation Loss Epoch: {epoch_loss}\")\n",
        "    print(f\"Validation Accuracy Epoch: {epoch_accu}\")\n",
        "    \n",
        "    return epoch_accu"
      ],
      "metadata": {
        "id": "08kRWcDfk97L"
      },
      "execution_count": null,
      "outputs": []
    },
    {
      "cell_type": "markdown",
      "source": [
        "#### (7.2.3) Accuracy report\n"
      ],
      "metadata": {
        "id": "q9ucQK3Q9OQU"
      }
    },
    {
      "cell_type": "code",
      "source": [
        "print('This is the validation section to print the accuracy and see how it performs')\n",
        "print('Here we are leveraging on the dataloader crearted for the validation dataset, the approcah is using more of pytorch')\n",
        "\n",
        "acc = valid(model, testing_loader)\n",
        "print(\"Accuracy on test data = %0.2f%%\" % acc)"
      ],
      "metadata": {
        "id": "UWKC9f3ZlD_c",
        "colab": {
          "base_uri": "https://localhost:8080/"
        },
        "outputId": "718c2958-bc07-4cc9-c9ed-9412795d4c2a"
      },
      "execution_count": null,
      "outputs": [
        {
          "output_type": "stream",
          "name": "stdout",
          "text": [
            "This is the validation section to print the accuracy and see how it performs\n",
            "Here we are leveraging on the dataloader crearted for the validation dataset, the approcah is using more of pytorch\n"
          ]
        },
        {
          "output_type": "stream",
          "name": "stderr",
          "text": [
            "/usr/local/lib/python3.7/dist-packages/transformers/tokenization_utils_base.py:2227: FutureWarning: The `pad_to_max_length` argument is deprecated and will be removed in a future version, use `padding=True` or `padding='longest'` to pad to the longest sequence in the batch, or use `padding='max_length'` to pad to a max length. In this case, you can give a specific length with `max_length` (e.g. `max_length=45`) or leave max_length to None to pad to the maximal input size of the model (e.g. 512 for Bert).\n",
            "  FutureWarning,\n"
          ]
        },
        {
          "output_type": "stream",
          "name": "stdout",
          "text": [
            "Validation Loss Epoch: 2.7099793945265462\n",
            "Validation Accuracy Epoch: 37.38095238095238\n",
            "Accuracy on test data = 37.38%\n"
          ]
        }
      ]
    },
    {
      "cell_type": "markdown",
      "source": [
        "## (8) Conclusion"
      ],
      "metadata": {
        "id": "sSyu7qEKiZ-z"
      }
    },
    {
      "cell_type": "markdown",
      "source": [
        "We work on three different architectures: \n",
        "1. LSTM\n",
        "2. Bi-LSTM\n",
        "3. BERT \n",
        "\n",
        "The first two architecture gave us very similar output but Bi-LSTM performed better, indeed we reach an accuracy of 52%, 4% better than the LSTM. \n",
        "\n",
        "Even after dropping the most recurrent words each plot has similar text. Moreover there isn't a common link between the same genre\n",
        "\n",
        "As comparison we have used accuracy for all 3 models.\n",
        "\n",
        "BERT gave us a slightly worse result: only 42,54% of test accuracy. The problem could be discernible from the fact that we have used only 6 epochs to have a comparison between models and BERT's response is less functional than the response of other two models. \n",
        "\n",
        "\n",
        "All the models that we reported here don't have an accuracy as high as in other examples of text classification. This is due to the fact that the original classification in the dataset is not as specific as it should be. A lot of movies have more than 1 genre and the classification is very broad in terms of different genre taken into consideration. Moreover the genre that we choose are slightly similar (i.e. for the thriller, action and horror  genres the difference in the plots is not as marked as it should be in order to train a well-prepared model for classification) in terms of plots. \n",
        "\n",
        "Summing up we are happy with the results that we have obtained and we think this has been a valuable exercise for our future experiences."
      ],
      "metadata": {
        "id": "Gj2w2K0dilyh"
      }
    }
  ]
}